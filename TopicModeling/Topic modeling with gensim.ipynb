{
 "cells": [
  {
   "attachments": {},
   "cell_type": "markdown",
   "metadata": {},
   "source": [
    "## Topic Modeling NAVER article with gensim"
   ]
  },
  {
   "attachments": {},
   "cell_type": "markdown",
   "metadata": {},
   "source": [
    "> Process the text to apply topic modeling.\n",
    "\n",
    "> Try gensim, a topic modeling library."
   ]
  },
  {
   "attachments": {},
   "cell_type": "markdown",
   "metadata": {},
   "source": [
    "### 1. Load the gensim library for topic modeling"
   ]
  },
  {
   "cell_type": "code",
   "execution_count": 1,
   "metadata": {},
   "outputs": [],
   "source": [
    "from tqdm.notebook import tqdm # progress bar\n",
    "from konlpy.tag import Mecab # Load Stemmer like Mecab, Okt, etc.\n",
    "import string # special characters\n",
    "import warnings # library for removing warning notifications\n",
    "from gensim import corpora # Import vectorizer module and LDA model used by gensim.\n",
    "from gensim import models\n",
    "\n",
    "import numpy as np\n",
    "import re\n",
    "import pickle\n",
    "import matplotlib.pyplot as plt\n",
    "%matplotlib inline\n",
    "warnings.filterwarnings(\"ignore\", category=DeprecationWarning) # Ignore any warning notifications"
   ]
  },
  {
   "attachments": {},
   "cell_type": "markdown",
   "metadata": {},
   "source": [
    "### 2. Create the text preprocessing function"
   ]
  },
  {
   "cell_type": "code",
   "execution_count": 2,
   "metadata": {},
   "outputs": [
    {
     "data": {
      "application/vnd.jupyter.widget-view+json": {
       "model_id": "4cacd5e2a2124e4dba2f33e3cce8f883",
       "version_major": 2,
       "version_minor": 0
      },
      "text/plain": [
       "Preprocessing:   0%|          | 0/11 [00:00<?, ?it/s]"
      ]
     },
     "metadata": {},
     "output_type": "display_data"
    }
   ],
   "source": [
    "def read_documents(input_file_name):\n",
    "    \n",
    "    corpus = []\n",
    "    \n",
    "    # Reads a PK file, converts it to a list, and returns it\n",
    "    with open(input_file_name,'rb') as f :\n",
    "        temp_corpus = pickle.load(f)\n",
    "    for page in temp_corpus:\n",
    "        corpus += page\n",
    "    \n",
    "    return corpus\n",
    "\n",
    "def text_cleaning(docs):\n",
    "    # Let's modify the function to remove non-Korean characters for convenience\n",
    "    cleaned_docs = []\n",
    "    for doc in docs:\n",
    "        temp_doc = re.sub(\"[^ㄱ-ㅎㅏ-ㅣ가-힣 ]\", \"\", doc)\n",
    "        cleaned_docs.append(temp_doc)\n",
    "        \n",
    "    return cleaned_docs\n",
    "\n",
    "def define_stopwords(path):\n",
    "    \n",
    "    SW = set()\n",
    "    # How to add a stopword 1\n",
    "    # Add special characters\n",
    "    for i in string.punctuation:\n",
    "        SW.add(i)\n",
    "    \n",
    "    # How to add a stopword 2\n",
    "    # Add directly to stopwords-en.txt\n",
    "    \n",
    "    with open(path) as f:\n",
    "        for word in f:\n",
    "            SW.add(word)\n",
    "\n",
    "    return SW\n",
    "\n",
    "\n",
    "def text_tokenizing(corpus, tokenizer):\n",
    "\n",
    "    # Create a function that allows you to choose between noun extraction and stemming\n",
    "    mecab = Mecab()\n",
    "    token_corpus = []\n",
    "    \n",
    "    #Let's make our progress visible using tqdm\n",
    "    if tokenizer == \"noun\":\n",
    "        for n in tqdm(range(len(corpus)), desc=\"Preprocessing\"):\n",
    "            token_text = mecab.nouns(corpus[n])\n",
    "            token_text = [word for word in token_text if word not in SW and len(word) > 1]\n",
    "                \n",
    "            token_corpus.append(token_text)\n",
    "            \n",
    "    elif tokenizer == \"morph\":\n",
    "        for n in tqdm(range(len(corpus)), desc=\"Preprocessing\"):\n",
    "            token_text = mecab.morphs(corpus[n])\n",
    "            token_text = [word for word in token_text if word not in SW and len(word) > 1]\n",
    "            token_corpus.append(token_text)\n",
    "\n",
    "    elif tokenizer == \"word\":\n",
    "        for n in tqdm(range(len(corpus)), desc=\"Preprocessing\"):\n",
    "            token_text = corpus[n].split()\n",
    "            token_text = [word for word in token_text if word not in SW and len(word) > 1]\n",
    "            token_corpus.append(token_text)\n",
    "        \n",
    "\n",
    "    return token_corpus\n",
    "\n",
    "# The (main) code to call the function\n",
    "input_file_name = \"/Users/shim/dl-python-SentimentAnalysis/Crawling /naver_news_content.pk\"\n",
    "documents = read_documents(input_file_name)\n",
    "SW = define_stopwords(\"/Users/shim/dl-python-SentimentAnalysis/Konlpy/stopwords-ko.txt\")\n",
    "cleaned_text = text_cleaning(documents)\n",
    "tokenized_text = text_tokenizing(cleaned_text, tokenizer=\"noun\") #tokenizer= \"noun\" or \"morph\" or \"word\""
   ]
  },
  {
   "attachments": {},
   "cell_type": "markdown",
   "metadata": {},
   "source": [
    "The process of reading a document is no different from the previous case of word embedding. The next step is to create the document-word matrix."
   ]
  },
  {
   "cell_type": "code",
   "execution_count": 3,
   "metadata": {},
   "outputs": [
    {
     "name": "stdout",
     "output_type": "stream",
     "text": [
      "['자연어', '코딩', '시대', '대비', '대체', '가능', '개발자', '육성', '재양', '프로그램', '교육', '개월', '합숙', '훈련', '돌입', '개월', '합숙', '기반', '협업', '자기', '주도', '학습', '기본기', '개발자', '양성', '소프트웨어', '양성', '프로그램', '래프', '정글', '정글', '기획', '운영', '래프', '장병규', '사회', '장사진', '김정한', '원장', '서울대', '시흥', '캠퍼스', '소식', '파이낸셜', '뉴스', '인터뷰', '코딩', '능력', '코드', '인공지능', '기반', '개발', '도구', '활용', '성과', '전산학', '기본기', '프로그래밍', '종말론', '제기', '정도', '파이썬', '프로그래밍', '언어', '자연어', '입력', '코딩', '시대', '가운데', '대체', '성과', '기본기', '공통', '진단', '활용', '성과', '슈퍼', '개발자', '가능', '개발자', '양극', '현상', '주목', '지적', '엔지니어', '기본기', '무엇', '의장', '컴퓨터', '엔지니어', '컴퓨터', '이해', '성과', '엔지니어', '기본기', '핵심', '오퍼레이팅', '시스템', '강조', '정글', '이스트', '핀토스', '고난', '프로젝트', '정글', '커리큘럼', '마련', '개발자', '커리어', '전환', '희망', '지원자', '선발', '육성', '래프', '사회', '책임', '프로그램', '산업', '개발자', '구인난', '해소', '청년', '고용', '창출', '기여', '정글', '단계', '규모', '확대', '목표', '배출', '교육', '합격', '연령', '중반', '개월', '모집', '과정', '선발', '교육', '개월', '합숙', '교육', '돌입', '교육', '과정', '자료', '구조', '알고리즘', '서버', '운영', '체제', '교육', '프로젝트', '나만', '무기', '발표', '마무리', '국내', '유수', '기업', '력사', '참여', '멘토링', '지원', '한편', '수료', '교육', '채용', '검토', '예정', '정글', '자기', '주도', '학습', '커리큘럼', '코치', '강의', '가이드', '제공', '형태', '기반', '프로젝트', '수행', '협업', '역량', '강화', '핵심', '목표', '김정한', '원장', '정글', '성장', '집중', '최적', '환경', '교육', '동료', '협력', '포기', '도전', '정신', '몰입', '즐거움', '자신', '한계', '성취감', '자신']\n"
     ]
    }
   ],
   "source": [
    "# Print the result\n",
    "print(tokenized_text[0])"
   ]
  },
  {
   "attachments": {},
   "cell_type": "markdown",
   "metadata": {},
   "source": [
    "### 3. Identify functions to use for topic modeling"
   ]
  },
  {
   "cell_type": "code",
   "execution_count": 4,
   "metadata": {},
   "outputs": [],
   "source": [
    "# Create a document-word matrix\n",
    "# Learn a vocabulary\n",
    "dictionary  = corpora.Dictionary(tokenized_text)\n",
    "# Create a document-term matrix\n",
    "corpus = [dictionary.doc2bow(text) for text in tokenized_text] # is like countvectorizer"
   ]
  },
  {
   "cell_type": "code",
   "execution_count": 9,
   "metadata": {},
   "outputs": [
    {
     "name": "stdout",
     "output_type": "stream",
     "text": [
      "Dictionary<342 unique tokens: ['가능', '가운데', '가이드', '강의', '강조']...>\n"
     ]
    }
   ],
   "source": [
    "# Verify Dictionary\n",
    "print(dictionary)"
   ]
  },
  {
   "cell_type": "code",
   "execution_count": 11,
   "metadata": {},
   "outputs": [
    {
     "data": {
      "text/plain": [
       "[(0, 2), (1, 1), (2, 1), (3, 1), (4, 1)]"
      ]
     },
     "execution_count": 11,
     "metadata": {},
     "output_type": "execute_result"
    }
   ],
   "source": [
    "# Verify corpus \n",
    "corpus[0][:5]"
   ]
  },
  {
   "cell_type": "code",
   "execution_count": 12,
   "metadata": {},
   "outputs": [
    {
     "data": {
      "text/plain": [
       "[(0, 0.1080277676265431),\n",
       " (1, 0.05401388381327155),\n",
       " (2, 0.05401388381327155),\n",
       " (3, 0.041166973856661404),\n",
       " (4, 0.041166973856661404)]"
      ]
     },
     "execution_count": 12,
     "metadata": {},
     "output_type": "execute_result"
    }
   ],
   "source": [
    "# Create a TFIDF document-word matrix\n",
    "tfidf = models.TfidfModel(corpus)\n",
    "corpus_tfidf = tfidf[corpus]\n",
    "corpus_tfidf[0][:5]"
   ]
  },
  {
   "cell_type": "code",
   "execution_count": 15,
   "metadata": {},
   "outputs": [],
   "source": [
    "# Create LDA model\n",
    "model = models.ldamodel.LdaModel(corpus,num_topics=3, id2word=dictionary)"
   ]
  },
  {
   "cell_type": "code",
   "execution_count": 17,
   "metadata": {},
   "outputs": [
    {
     "data": {
      "text/plain": [
       "[('교육', 0.032709572),\n",
       " ('사회', 0.026290283),\n",
       " ('수업', 0.02454356),\n",
       " ('올리브', 0.02402457),\n",
       " ('코딩', 0.022991514),\n",
       " ('웍스', 0.022338945),\n",
       " ('네트', 0.020883633),\n",
       " ('캠프', 0.020300325),\n",
       " ('중학교', 0.01706676),\n",
       " ('학생', 0.01604399)]"
      ]
     },
     "execution_count": 17,
     "metadata": {},
     "output_type": "execute_result"
    }
   ],
   "source": [
    "# Verify the result of LDA \n",
    "model.show_topic(2,10)"
   ]
  },
  {
   "attachments": {},
   "cell_type": "markdown",
   "metadata": {},
   "source": [
    "### 4.Adding topic modeling to complete the code"
   ]
  },
  {
   "cell_type": "code",
   "execution_count": 19,
   "metadata": {
    "scrolled": false
   },
   "outputs": [
    {
     "name": "stdout",
     "output_type": "stream",
     "text": [
      "Building document-term matrix.\n",
      "\n",
      "Printing topic words.\n",
      "\n",
      "Topic ID:0\n",
      "\t교육\t0.03205902874469757\n",
      "\t네트\t0.024408437311649323\n",
      "\t코딩\t0.022968394681811333\n",
      "\t올리브\t0.02290395088493824\n",
      "\t웍스\t0.02217511087656021\n",
      "\t사회\t0.019853178411722183\n",
      "\t수업\t0.017888279631733894\n",
      "\t중학교\t0.01741364412009716\n",
      "\t캠프\t0.017183668911457062\n",
      "\t학생\t0.01649763621389866\n",
      "\t커리큘럼\t0.015212050639092922\n",
      "\t프로그램\t0.013360374607145786\n",
      "\t과정\t0.012681773863732815\n",
      "\t로봇\t0.012678198516368866\n",
      "\t지역\t0.011723075062036514\n",
      "\t레고\t0.011592663824558258\n",
      "\t올해\t0.011523707769811153\n",
      "\t문제\t0.011290381662547588\n",
      "\t해결\t0.01119607500731945\n",
      "\t지원\t0.010355943813920021\n",
      "\t제주\t0.009912112727761269\n",
      "\t충북\t0.009749880991876125\n",
      "\t기술\t0.009683496318757534\n",
      "\t대상\t0.0088921207934618\n",
      "\t환경\t0.008875895291566849\n",
      "\t주제\t0.008509043604135513\n",
      "\t활용\t0.00834006816148758\n",
      "\t도입\t0.008178863674402237\n",
      "\t제공\t0.008163277059793472\n",
      "\t참여\t0.008067055605351925\n",
      "\n",
      "\n",
      "Topic ID:1\n",
      "\t캠프\t0.02726460061967373\n",
      "\t웍스\t0.025471234694123268\n",
      "\t교육\t0.02478213608264923\n",
      "\t사회\t0.024059046059846878\n",
      "\t올리브\t0.02402391843497753\n",
      "\t네트\t0.02270052395761013\n",
      "\t수업\t0.022065849974751472\n",
      "\t코딩\t0.018033847212791443\n",
      "\t로봇\t0.017628515139222145\n",
      "\t학생\t0.01688072644174099\n",
      "\t문제\t0.01647787168622017\n",
      "\t해결\t0.01602061279118061\n",
      "\t지역\t0.014717071317136288\n",
      "\t프로그램\t0.013943571597337723\n",
      "\t기술\t0.013477282598614693\n",
      "\t중학교\t0.013365610502660275\n",
      "\t환경\t0.012888320721685886\n",
      "\t레고\t0.012309547513723373\n",
      "\t제주\t0.011169864796102047\n",
      "\t파이썬\t0.010930064134299755\n",
      "\t도입\t0.010894390754401684\n",
      "\t충북\t0.009543094784021378\n",
      "\t지원\t0.009412144310772419\n",
      "\t진행\t0.008930642157793045\n",
      "\t올해\t0.008812648244202137\n",
      "\t커리큘럼\t0.008642205968499184\n",
      "\t참여\t0.008593147620558739\n",
      "\t대상\t0.008444374427199364\n",
      "\t모형\t0.007913060486316681\n",
      "\t제작\t0.007747919298708439\n",
      "\n",
      "\n",
      "Topic ID:2\n",
      "\t교육\t0.03590763732790947\n",
      "\t사회\t0.01721974089741707\n",
      "\t올리브\t0.013907251879572868\n",
      "\t네트\t0.013420497067272663\n",
      "\t웍스\t0.012903167866170406\n",
      "\t코딩\t0.012512513436377048\n",
      "\t프로그램\t0.01216157153248787\n",
      "\t정글\t0.012091445736587048\n",
      "\t활용\t0.011991786770522594\n",
      "\t과정\t0.011794592253863811\n",
      "\t래프\t0.011486359871923923\n",
      "\t수업\t0.011327366344630718\n",
      "\t개발자\t0.011242225766181946\n",
      "\t로봇\t0.009385151788592339\n",
      "\t학생\t0.009382883086800575\n",
      "\t기본기\t0.009233648888766766\n",
      "\t해결\t0.00909350998699665\n",
      "\t커리큘럼\t0.008459437638521194\n",
      "\t지원\t0.008416187949478626\n",
      "\t문제\t0.008231207728385925\n",
      "\t캠프\t0.008009848184883595\n",
      "\t진행\t0.007450427394360304\n",
      "\t성과\t0.007102243136614561\n",
      "\t학습\t0.007026587147265673\n",
      "\t파이썬\t0.006912872660905123\n",
      "\t기술\t0.006789921782910824\n",
      "\t지역\t0.006713844370096922\n",
      "\t참여\t0.0065119448117911816\n",
      "\t제주\t0.006455559283494949\n",
      "\t제공\t0.006380112376064062\n",
      "\n",
      "\n"
     ]
    }
   ],
   "source": [
    "# Add variables to determine the number of topics and keywords\n",
    "NUM_TOPICS = 3\n",
    "NUM_TOPIC_WORDS = 30\n",
    "\n",
    "def build_doc_term_mat(documents):\n",
    "    # Create a document-word matrix function\n",
    "    print(\"Building document-term matrix.\")\n",
    "    dictionary = corpora.Dictionary(documents)\n",
    "    corpus = [dictionary.doc2bow(document) for document in documents]\n",
    "\n",
    "    return corpus, dictionary\n",
    "\n",
    "\n",
    "def print_topic_words(model):\n",
    "\n",
    "    # Functions that output the results of topic modeling\n",
    "    print(\"\\nPrinting topic words.\\n\")\n",
    "\n",
    "    for topic_id in range(model.num_topics):\n",
    "        topic_word_probs = model.show_topic(topic_id, NUM_TOPIC_WORDS)\n",
    "        print(\"Topic ID:{}\".format(topic_id))\n",
    "\n",
    "        for topic_word, prob in topic_word_probs:\n",
    "            print(\"\\t{}\\t{}\".format(topic_word,prob))\n",
    "\n",
    "        print(\"\\n\")\n",
    "\n",
    "# Create a document-term matrix,\n",
    "corpus, dictionary = build_doc_term_mat(tokenized_text)\n",
    "\n",
    "# Run LDA\n",
    "model = models.ldamodel.LdaModel(corpus, num_topics = NUM_TOPICS , id2word = dictionary , alpha = \"auto\", \n",
    "                                eta = \"auto\")\n",
    "# output the result\n",
    "print_topic_words(model)\n"
   ]
  },
  {
   "attachments": {},
   "cell_type": "markdown",
   "metadata": {},
   "source": [
    "### 5. Visualizing the results of topic modeling with pyLDAvis"
   ]
  },
  {
   "cell_type": "code",
   "execution_count": 20,
   "metadata": {},
   "outputs": [
    {
     "name": "stdout",
     "output_type": "stream",
     "text": [
      "Collecting pyldavis\n",
      "  Downloading pyLDAvis-3.4.0-py3-none-any.whl (2.6 MB)\n",
      "\u001b[2K     \u001b[90m━━━━━━━━━━━━━━━━━━━━━━━━━━━━━━━━━━━━━━━━\u001b[0m \u001b[32m2.6/2.6 MB\u001b[0m \u001b[31m221.8 kB/s\u001b[0m eta \u001b[36m0:00:00\u001b[0m00:01\u001b[0m00:01\u001b[0m\n",
      "\u001b[?25hRequirement already satisfied: gensim in /opt/anaconda3/envs/tensorlow/lib/python3.9/site-packages (from pyldavis) (4.3.1)\n",
      "Requirement already satisfied: setuptools in /opt/anaconda3/envs/tensorlow/lib/python3.9/site-packages (from pyldavis) (65.5.0)\n",
      "Requirement already satisfied: scikit-learn>=1.0.0 in /opt/anaconda3/envs/tensorlow/lib/python3.9/site-packages (from pyldavis) (1.1.2)\n",
      "Collecting funcy\n",
      "  Downloading funcy-2.0-py2.py3-none-any.whl (30 kB)\n",
      "Collecting joblib>=1.2.0\n",
      "  Using cached joblib-1.2.0-py3-none-any.whl (297 kB)\n",
      "Collecting numexpr\n",
      "  Downloading numexpr-2.8.4-cp39-cp39-macosx_10_9_x86_64.whl (99 kB)\n",
      "\u001b[2K     \u001b[90m━━━━━━━━━━━━━━━━━━━━━━━━━━━━━━━━━━━━━━━\u001b[0m \u001b[32m99.9/99.9 kB\u001b[0m \u001b[31m291.9 kB/s\u001b[0m eta \u001b[36m0:00:00\u001b[0ma \u001b[36m0:00:01\u001b[0m\n",
      "\u001b[?25hRequirement already satisfied: pandas>=1.3.4 in /opt/anaconda3/envs/tensorlow/lib/python3.9/site-packages (from pyldavis) (1.5.1)\n",
      "Requirement already satisfied: scipy in /opt/anaconda3/envs/tensorlow/lib/python3.9/site-packages (from pyldavis) (1.10.1)\n",
      "Requirement already satisfied: numpy>=1.22.0 in /opt/anaconda3/envs/tensorlow/lib/python3.9/site-packages (from pyldavis) (1.24.2)\n",
      "Requirement already satisfied: jinja2 in /opt/anaconda3/envs/tensorlow/lib/python3.9/site-packages (from pyldavis) (3.1.2)\n",
      "Requirement already satisfied: python-dateutil>=2.8.1 in /opt/anaconda3/envs/tensorlow/lib/python3.9/site-packages (from pandas>=1.3.4->pyldavis) (2.8.2)\n",
      "Requirement already satisfied: pytz>=2020.1 in /opt/anaconda3/envs/tensorlow/lib/python3.9/site-packages (from pandas>=1.3.4->pyldavis) (2022.1)\n",
      "Requirement already satisfied: threadpoolctl>=2.0.0 in /opt/anaconda3/envs/tensorlow/lib/python3.9/site-packages (from scikit-learn>=1.0.0->pyldavis) (2.2.0)\n",
      "Requirement already satisfied: smart-open>=1.8.1 in /opt/anaconda3/envs/tensorlow/lib/python3.9/site-packages (from gensim->pyldavis) (6.3.0)\n",
      "Requirement already satisfied: MarkupSafe>=2.0 in /opt/anaconda3/envs/tensorlow/lib/python3.9/site-packages (from jinja2->pyldavis) (2.1.1)\n",
      "Requirement already satisfied: six>=1.5 in /opt/anaconda3/envs/tensorlow/lib/python3.9/site-packages (from python-dateutil>=2.8.1->pandas>=1.3.4->pyldavis) (1.16.0)\n",
      "Installing collected packages: funcy, numexpr, joblib, pyldavis\n",
      "  Attempting uninstall: joblib\n",
      "    Found existing installation: joblib 1.1.1\n",
      "    Uninstalling joblib-1.1.1:\n",
      "      Successfully uninstalled joblib-1.1.1\n",
      "Successfully installed funcy-2.0 joblib-1.2.0 numexpr-2.8.4 pyldavis-3.4.0\n"
     ]
    }
   ],
   "source": [
    "!pip install pyldavis"
   ]
  },
  {
   "cell_type": "code",
   "execution_count": 21,
   "metadata": {},
   "outputs": [
    {
     "name": "stderr",
     "output_type": "stream",
     "text": [
      "/opt/anaconda3/envs/tensorlow/lib/python3.9/site-packages/pyLDAvis/_prepare.py:243: FutureWarning: In a future version of pandas all arguments of DataFrame.drop except for the argument 'labels' will be keyword-only.\n",
      "  default_term_info = default_term_info.sort_values(\n"
     ]
    },
    {
     "data": {
      "text/html": [
       "\n",
       "<link rel=\"stylesheet\" type=\"text/css\" href=\"https://cdn.jsdelivr.net/gh/bmabey/pyLDAvis@3.4.0/pyLDAvis/js/ldavis.v1.0.0.css\">\n",
       "\n",
       "\n",
       "<div id=\"ldavis_el113921405732629454086547006121\" style=\"background-color:white;\"></div>\n",
       "<script type=\"text/javascript\">\n",
       "\n",
       "var ldavis_el113921405732629454086547006121_data = {\"mdsDat\": {\"x\": [-0.025982501960416352, 0.03180422226844589, -0.005821720308029556], \"y\": [0.0, 0.0, 0.0], \"topics\": [1, 2, 3], \"cluster\": [1, 1, 1], \"Freq\": [64.7554954464559, 26.879228009759288, 8.365276543784814]}, \"tinfo\": {\"Term\": [\"\\uad50\\uc721\", \"\\ub124\\ud2b8\", \"\\ucf54\\ub529\", \"\\uc62c\\ub9ac\\ube0c\", \"\\uc6cd\\uc2a4\", \"\\uc911\\ud559\\uad50\", \"\\uc0ac\\ud68c\", \"\\uc218\\uc5c5\", \"\\ucea0\\ud504\", \"\\ucee4\\ub9ac\\ud058\\ub7fc\", \"\\ud559\\uc0dd\", \"\\uacfc\\uc815\", \"\\ud504\\ub85c\\uadf8\\ub7a8\", \"\\uc62c\\ud574\", \"\\ub808\\uace0\", \"\\uc9c0\\uc5ed\", \"\\ub85c\\ubd07\", \"\\ucda9\\ubd81\", \"\\uc9c0\\uc6d0\", \"\\ud65c\\uc6a9\", \"\\ubb38\\uc81c\", \"\\uac1c\\ubc1c\\uc790\", \"\\uc81c\\uc8fc\", \"\\ud574\\uacb0\", \"\\ub300\\uc0c1\", \"\\uc8fc\\uc81c\", \"\\uae30\\uc220\", \"\\uc81c\\uacf5\", \"\\uc815\\uae00\", \"\\ud658\\uacbd\", \"\\ubaa8\\uc2b5\", \"\\ucea0\\ud504\", \"\\uc81c\\ucc9c\", \"\\ubaa9\\ud3ec\", \"\\uc7ac\\ud310\\ub9e4\", \"\\uc0b0\\ub9bc\", \"\\ub2f4\\ub2f9\", \"\\uacbd\\uc601\", \"\\uc0ac\\ub840\", \"\\ud658\\uacbd\", \"\\ub3c4\\uc785\", \"\\uc11c\\uc6b8\", \"\\uc784\\uc9c1\\uc6d0\", \"\\uc0ac\\uc6b4\\ub4dc\", \"\\ud30c\\uc885\", \"\\ub2e4\\uc591\", \"\\uacf5\\ud5cc\", \"\\uc9c0\\uc5ed\", \"\\ubc15\\ub78c\\ud68c\", \"\\uae30\\uc790\", \"\\uc2dc\\ud589\", \"\\ubb38\\uc81c\", \"\\uc784\\uc131\\ud638\", \"\\uc2e0\\ucc3d\", \"\\ub0b4\\uc6a9\", \"\\uc774\\ubc88\", \"\\uc911\\uc544\", \"\\uae30\\uc220\", \"\\ub808\\uace0\", \"\\ucda9\\ubd81\", \"\\ub85c\\ubd07\", \"\\uc218\\uc5c5\", \"\\uc6cd\\uc2a4\", \"\\ud574\\uacb0\", \"\\ud1f4\\uce58\", \"\\uc62c\\ub9ac\\ube0c\", \"\\ud559\\uc0dd\", \"\\uc81c\\uc791\", \"\\ub124\\ud2b8\", \"\\ubaa8\\ud615\", \"\\uc0ac\\ud68c\", \"\\uc911\\ud559\\uad50\", \"\\uc81c\\uc8fc\", \"\\ud30c\\uc774\\uc36c\", \"\\ucf54\\ub529\", \"\\ud65c\\ub3d9\", \"\\ud504\\ub85c\\uadf8\\ub7a8\", \"\\ub300\\uc0c1\", \"\\uad50\\uc721\", \"\\uc9c4\\ud589\", \"\\uc62c\\ud574\", \"\\ucc38\\uc5ec\", \"\\uc9c0\\uc6d0\", \"\\ucee4\\ub9ac\\ud058\\ub7fc\", \"\\uac1c\\ubc1c\\uc790\", \"\\ub3c4\\uad6c\", \"\\uae30\\ubc18\", \"\\ub274\\uc2a4\", \"\\uc778\\ud130\\ubdf0\", \"\\uae30\\ubcf8\\uae30\", \"\\uc2dc\\ub300\", \"\\ud504\\ub85c\\uc81d\\ud2b8\", \"\\uac1c\\ubc1c\", \"\\ub798\\ud504\", \"\\uc5b8\\uc5b4\", \"\\uac00\\uc774\\ub4dc\", \"\\uac15\\ud654\", \"\\uc6b4\\uc601\", \"\\uac80\\ud1a0\", \"\\ucd5c\\uc801\", \"\\uac1c\\uc6d4\", \"\\ub3d9\\ub8cc\", \"\\uc9c4\\ub2e8\", \"\\ud540\\ud1a0\\uc2a4\", \"\\ud615\\ud0dc\", \"\\uccb4\\uc81c\", \"\\ud604\\uc0c1\", \"\\uc288\\ud37c\", \"\\uad6c\\uc778\\ub09c\", \"\\uc11c\\uc6b8\\ub300\", \"\\ubaa9\\ud45c\", \"\\uc218\\ud589\", \"\\ubc1c\\ud45c\", \"\\ubab0\\uc785\", \"\\ud559\\uc2b5\", \"\\uc131\\uacfc\", \"\\uae40\\uc815\\ud55c\", \"\\uc790\\uae30\", \"\\ud504\\ub85c\\uadf8\\ub798\\ubc0d\", \"\\uc815\\uae00\", \"\\uc0b0\\uc5c5\", \"\\uc6d0\\uc7a5\", \"\\uc5d4\\uc9c0\\ub2c8\\uc5b4\", \"\\uc8fc\\ub3c4\", \"\\uad50\\uc721\", \"\\uc790\\uc2e0\", \"\\ud65c\\uc6a9\", \"\\uacfc\\uc815\", \"\\uc120\\ubc1c\", \"\\uc758\\uc7a5\", \"\\uad6c\\uc870\", \"\\uc0ac\\ud68c\", \"\\ud504\\ub85c\\uadf8\\ub7a8\", \"\\ucf54\\ub529\", \"\\uc62c\\ub9ac\\ube0c\", \"\\ub124\\ud2b8\", \"\\ucee4\\ub9ac\\ud058\\ub7fc\", \"\\uc9c0\\uc6d0\", \"\\uc6cd\\uc2a4\", \"\\uc218\\uc5c5\", \"\\uc9c4\\ud589\", \"\\ud574\\uacb0\", \"\\ud559\\uc0dd\", \"\\ub85c\\ubd07\", \"\\ubb38\\uc81c\", \"\\ud30c\\uc774\\uc36c\", \"\\ucea0\\ud504\", \"\\ucc38\\uc5ec\", \"\\uc81c\\uacf5\", \"\\uae30\\uc220\", \"\\uc9c0\\uc5ed\", \"\\uc81c\\uc8fc\", \"\\ucee4\\ub9ac\\ud058\\ub7fc\", \"\\ud765\\uc6d0\", \"\\uace0\\ub4f1\\ud559\\uad50\", \"\\ucd94\\uac00\", \"\\uc911\\ud559\\uad50\", \"\\uacfc\\uc815\", \"\\uae30\\ucd08\", \"\\ub3d9\\uc548\", \"\\uc62c\\ud574\", \"\\ubc94\\uc8fc\", \"\\ucf54\\ub529\", \"\\ud1a0\\ub860\", \"\\uc6b4\\ub3d9\", \"\\uc2e4\\uc2dc\", \"\\uc4f0\\ub808\\uae30\", \"\\uc0ac\\uc9c4\", \"\\ubb34\\uc0c1\", \"\\uc774\\ub178\\ubca0\\uc774\\uc158\", \"\\uad6c\\ub984\", \"\\ubd84\\uc0b0\", \"\\uae30\\ubcf8\", \"\\uccad\\uc18c\\ub144\", \"\\uae30\\ud68c\", \"\\uac15\\uc6d0\", \"\\ubcf5\\uc6d0\", \"\\uc8fc\\ubaa9\", \"\\uc2a4\\ub9c8\\ud2b8\", \"\\uad00\\uc2ec\", \"\\uc774\\ud574\", \"\\ub300\\uccb4\", \"\\ub124\\ud2b8\", \"\\ucda9\\ubd81\", \"\\uc8fc\\uc81c\", \"\\uad50\\uc721\", \"\\ub300\\uc0c1\", \"\\ud559\\uc0dd\", \"\\uc62c\\ub9ac\\ube0c\", \"\\ud655\\ub300\", \"\\ub808\\uace0\", \"\\uc9c0\\uc6d0\", \"\\uc81c\\uacf5\", \"\\uc6cd\\uc2a4\", \"\\ud504\\ub85c\\uadf8\\ub7a8\", \"\\uc218\\uc5c5\", \"\\uc0ac\\ud68c\", \"\\ud65c\\ub3d9\", \"\\uc81c\\uc8fc\", \"\\uc9c0\\uc5ed\", \"\\ucea0\\ud504\", \"\\ucc38\\uc5ec\", \"\\ub85c\\ubd07\", \"\\ud65c\\uc6a9\", \"\\ubb38\\uc81c\", \"\\ud574\\uacb0\", \"\\uae30\\uc220\", \"\\ub3c4\\uc785\", \"\\ud658\\uacbd\"], \"Freq\": [58.0, 42.0, 35.0, 43.0, 45.0, 24.0, 45.0, 38.0, 43.0, 18.0, 30.0, 18.0, 27.0, 16.0, 21.0, 25.0, 30.0, 16.0, 19.0, 17.0, 28.0, 9.0, 20.0, 28.0, 15.0, 14.0, 23.0, 14.0, 14.0, 21.0, 5.102195328277241, 36.47590555227885, 9.099881297410837, 6.503931413987243, 1.6952192998373141, 5.646480793151065, 6.90247562877844, 6.897544085349003, 5.490335394376762, 17.24262078618038, 14.57504453303564, 1.6103487519135082, 5.575053155409957, 6.82782591642679, 5.70152207581076, 6.204042987155314, 6.062944527296016, 19.68921206139565, 3.073875687539442, 2.850609029745099, 3.7196415510229968, 22.04489622692039, 1.5200923492861482, 5.9256144992463, 1.506994572385399, 4.9867728533437266, 1.500221487473217, 18.030562560806864, 16.468309907238094, 12.76721522072214, 23.58428286608365, 29.5207647028215, 34.076653605274295, 21.433153091524265, 6.0753849000527635, 32.14036369186976, 22.583854864849624, 10.365542356869835, 30.369862350653396, 10.586476250089705, 32.18735913276705, 17.88116221265289, 14.943587071667817, 14.622770111489693, 24.126555780294414, 9.539073989423342, 18.65438660703973, 11.297293818870132, 33.154744048667915, 11.947846381941872, 11.789988399427356, 11.496329815229885, 12.59202332406151, 11.56196245335242, 6.243087264610703, 1.958825359465707, 3.3715280848857536, 1.9558163680419947, 1.901438467728466, 5.127674624428424, 1.8794907508497747, 3.231107278343863, 2.2330106521866435, 6.378660998683871, 1.868076960590251, 1.33417453995252, 1.4081073935108785, 2.470427212692119, 1.3123215975115041, 1.2988313032014125, 3.394289465524733, 1.2700563358007941, 1.3903777209436246, 1.3345345018003894, 1.3540077395682604, 1.3075793846184351, 1.3206987268661932, 1.7767301768613686, 1.381252869115434, 1.2486768776582329, 2.167129359041546, 1.2965558116207183, 1.3194216639454297, 1.2754940353244986, 3.9020384081532073, 3.944052058601003, 2.9615985158224905, 2.444384541903992, 2.8940324874483205, 6.714680211804267, 2.0268331944613456, 3.0787063622559296, 2.92158405003409, 2.060818557891216, 19.940403080898548, 2.0783094195629905, 6.659337112067482, 6.549830097957623, 2.281285880353051, 2.4452402270725258, 2.464209337238083, 9.562549919602878, 6.753622808440786, 6.948509566308562, 7.723042474051082, 7.452735434069671, 4.697735883021349, 4.673718256220769, 7.165449676410528, 6.290367943016403, 4.137407427055645, 5.049852010729512, 5.210548082101894, 5.211807948569437, 4.5709941438850565, 3.838889928807164, 4.44806769002424, 3.616244733728407, 3.543034906985165, 3.770612251722264, 3.728364574354697, 3.5849324490495604, 2.6290471609162402, 0.2769636744358011, 0.278261473343066, 0.5669877883337153, 3.009541101414392, 2.1917480005060397, 0.8964233292329757, 0.5390646702473105, 1.9916033619815092, 0.17380294627078596, 3.9695498168957215, 0.6059803842571045, 0.17196056837581578, 0.707475928421734, 0.17052000032173897, 0.34723210939480326, 0.1688640311281797, 0.41792388223684773, 0.23838596613591914, 0.1619523928372745, 0.32437626991727575, 0.3426717055203722, 0.23547010348500946, 0.33052343133574064, 0.671764165882508, 0.23645226507897332, 0.7473838484100976, 0.8421439321352957, 0.7238824694630861, 0.31161885273815776, 4.2184275045524116, 1.685038891146605, 1.4705891704091054, 5.540653295380108, 1.5367951028572833, 2.8512305591802516, 3.958412213871152, 1.0447558050080847, 2.003520803243174, 1.789782674837191, 1.4108315102941593, 3.832449265137326, 2.309028267328232, 3.0915707484319874, 3.431157545871417, 1.1810283922893663, 1.7130768522840247, 2.026059335475159, 2.9697952654517774, 1.394201882401081, 2.191130085337369, 1.4413857172851414, 1.9512784015654234, 1.9349797019314714, 1.6735658530578237, 1.4135252920766208, 1.53399090435023], \"Total\": [58.0, 42.0, 35.0, 43.0, 45.0, 24.0, 45.0, 38.0, 43.0, 18.0, 30.0, 18.0, 27.0, 16.0, 21.0, 25.0, 30.0, 16.0, 19.0, 17.0, 28.0, 9.0, 20.0, 28.0, 15.0, 14.0, 23.0, 14.0, 14.0, 21.0, 6.116098782677879, 43.89376850775487, 11.154820387209607, 8.089207799632232, 2.1231595343131793, 7.12434304322702, 8.72825434377787, 8.734790574270905, 6.959659773677402, 21.858287738031464, 18.5064214940746, 2.048902159574171, 7.096418589535337, 8.733283516603887, 7.332341715970194, 7.983806667419482, 7.833117137571831, 25.443635971225504, 3.9782864905092152, 3.691432671928737, 4.81970225521607, 28.56716877237087, 1.9711582896998054, 7.691131739709048, 1.9604431069492607, 6.487923299766561, 1.9520202296474793, 23.47474066558695, 21.46198645816134, 16.66165700760601, 30.987220899990458, 38.90270339426989, 45.07455254682215, 28.41798480418525, 7.930773543748907, 43.82181837979199, 30.64563350613177, 13.754229275567841, 42.041025289275474, 14.073899532932831, 45.181066598241344, 24.362318377003852, 20.241596373001403, 19.804806339852224, 35.0446151634987, 12.846079852417109, 27.717037682808744, 15.808938274481314, 58.635800424946574, 17.148831722094055, 16.90741304377704, 16.506776431359373, 19.05552425511947, 18.88874549729001, 9.917021090542807, 3.2573704198254783, 5.734466816645667, 3.4267944729764985, 3.364360814359045, 9.275200630114366, 3.403644319539432, 5.862417477359386, 4.09867971392189, 11.72522488310284, 3.435485098326, 2.4579546576693128, 2.5982863495093866, 4.565403711489642, 2.4473733412824092, 2.4276256209157903, 6.355800262135076, 2.389076663676277, 2.6305756212845286, 2.5292942816363584, 2.5750688355058777, 2.493700404842641, 2.5289399567873607, 3.40902560904619, 2.654976473703205, 2.41185668874653, 4.195522282209961, 2.514865455383595, 2.5666321762930764, 2.486111696649292, 7.641140357113967, 7.795308925794922, 5.853991233817129, 4.8712020458940986, 5.840209651659253, 14.45197689778461, 4.035516732594455, 6.411881460473743, 6.130195594193405, 4.125710703731134, 58.635800424946574, 4.214998703975522, 17.47943506250666, 18.049692508915502, 4.899090563122996, 5.367914294861883, 5.46592239094946, 45.181066598241344, 27.717037682808744, 35.0446151634987, 43.82181837979199, 42.041025289275474, 18.88874549729001, 19.05552425511947, 45.07455254682215, 38.90270339426989, 17.148831722094055, 28.41798480418525, 30.64563350613177, 30.987220899990458, 28.56716877237087, 19.804806339852224, 43.89376850775487, 16.506776431359373, 14.90259990672226, 23.47474066558695, 25.443635971225504, 20.241596373001403, 18.88874549729001, 2.043009355431634, 2.174048060993903, 4.459605553469059, 24.362318377003852, 18.049692508915502, 7.4840345506695165, 4.524715463752175, 16.90741304377704, 1.5068282269331879, 35.0446151634987, 5.361140817308026, 1.5214157918147568, 6.313515886310462, 1.531624304293933, 3.155857618418628, 1.535467765707505, 3.8239609214212518, 2.2196873114361804, 1.5101166407020075, 3.0589056081471298, 3.2410441107097188, 2.235334593184587, 3.1624327925771527, 6.4826014797753775, 2.289611238810288, 7.2486641745862475, 8.173089787959473, 7.091567399926515, 3.056370056770638, 42.041025289275474, 16.66165700760601, 14.721661522869132, 58.635800424946574, 15.808938274481314, 30.64563350613177, 43.82181837979199, 10.645662993085141, 21.46198645816134, 19.05552425511947, 14.90259990672226, 45.07455254682215, 27.717037682808744, 38.90270339426989, 45.181066598241344, 12.846079852417109, 20.241596373001403, 25.443635971225504, 43.89376850775487, 16.506776431359373, 30.987220899990458, 17.47943506250666, 28.56716877237087, 28.41798480418525, 23.47474066558695, 18.5064214940746, 21.858287738031464], \"Category\": [\"Default\", \"Default\", \"Default\", \"Default\", \"Default\", \"Default\", \"Default\", \"Default\", \"Default\", \"Default\", \"Default\", \"Default\", \"Default\", \"Default\", \"Default\", \"Default\", \"Default\", \"Default\", \"Default\", \"Default\", \"Default\", \"Default\", \"Default\", \"Default\", \"Default\", \"Default\", \"Default\", \"Default\", \"Default\", \"Default\", \"Topic1\", \"Topic1\", \"Topic1\", \"Topic1\", \"Topic1\", \"Topic1\", \"Topic1\", \"Topic1\", \"Topic1\", \"Topic1\", \"Topic1\", \"Topic1\", \"Topic1\", \"Topic1\", \"Topic1\", \"Topic1\", \"Topic1\", \"Topic1\", \"Topic1\", \"Topic1\", \"Topic1\", \"Topic1\", \"Topic1\", \"Topic1\", \"Topic1\", \"Topic1\", \"Topic1\", \"Topic1\", \"Topic1\", \"Topic1\", \"Topic1\", \"Topic1\", \"Topic1\", \"Topic1\", \"Topic1\", \"Topic1\", \"Topic1\", \"Topic1\", \"Topic1\", \"Topic1\", \"Topic1\", \"Topic1\", \"Topic1\", \"Topic1\", \"Topic1\", \"Topic1\", \"Topic1\", \"Topic1\", \"Topic1\", \"Topic1\", \"Topic1\", \"Topic1\", \"Topic1\", \"Topic1\", \"Topic2\", \"Topic2\", \"Topic2\", \"Topic2\", \"Topic2\", \"Topic2\", \"Topic2\", \"Topic2\", \"Topic2\", \"Topic2\", \"Topic2\", \"Topic2\", \"Topic2\", \"Topic2\", \"Topic2\", \"Topic2\", \"Topic2\", \"Topic2\", \"Topic2\", \"Topic2\", \"Topic2\", \"Topic2\", \"Topic2\", \"Topic2\", \"Topic2\", \"Topic2\", \"Topic2\", \"Topic2\", \"Topic2\", \"Topic2\", \"Topic2\", \"Topic2\", \"Topic2\", \"Topic2\", \"Topic2\", \"Topic2\", \"Topic2\", \"Topic2\", \"Topic2\", \"Topic2\", \"Topic2\", \"Topic2\", \"Topic2\", \"Topic2\", \"Topic2\", \"Topic2\", \"Topic2\", \"Topic2\", \"Topic2\", \"Topic2\", \"Topic2\", \"Topic2\", \"Topic2\", \"Topic2\", \"Topic2\", \"Topic2\", \"Topic2\", \"Topic2\", \"Topic2\", \"Topic2\", \"Topic2\", \"Topic2\", \"Topic2\", \"Topic2\", \"Topic2\", \"Topic2\", \"Topic2\", \"Topic2\", \"Topic3\", \"Topic3\", \"Topic3\", \"Topic3\", \"Topic3\", \"Topic3\", \"Topic3\", \"Topic3\", \"Topic3\", \"Topic3\", \"Topic3\", \"Topic3\", \"Topic3\", \"Topic3\", \"Topic3\", \"Topic3\", \"Topic3\", \"Topic3\", \"Topic3\", \"Topic3\", \"Topic3\", \"Topic3\", \"Topic3\", \"Topic3\", \"Topic3\", \"Topic3\", \"Topic3\", \"Topic3\", \"Topic3\", \"Topic3\", \"Topic3\", \"Topic3\", \"Topic3\", \"Topic3\", \"Topic3\", \"Topic3\", \"Topic3\", \"Topic3\", \"Topic3\", \"Topic3\", \"Topic3\", \"Topic3\", \"Topic3\", \"Topic3\", \"Topic3\", \"Topic3\", \"Topic3\", \"Topic3\", \"Topic3\", \"Topic3\", \"Topic3\", \"Topic3\", \"Topic3\", \"Topic3\", \"Topic3\", \"Topic3\", \"Topic3\"], \"logprob\": [30.0, 29.0, 28.0, 27.0, 26.0, 25.0, 24.0, 23.0, 22.0, 21.0, 20.0, 19.0, 18.0, 17.0, 16.0, 15.0, 14.0, 13.0, 12.0, 11.0, 10.0, 9.0, 8.0, 7.0, 6.0, 5.0, 4.0, 3.0, 2.0, 1.0, -5.5691, -3.6022, -4.9906, -5.3264, -6.671, -5.4678, -5.2669, -5.2677, -5.4958, -4.3514, -4.5195, -6.7224, -5.4805, -5.2778, -5.4581, -5.3736, -5.3966, -4.2187, -6.0759, -6.1513, -5.8852, -4.1057, -6.78, -5.4195, -6.7887, -5.592, -6.7932, -4.3067, -4.3974, -4.6519, -4.0382, -3.8137, -3.6702, -4.1339, -5.3946, -3.7287, -4.0816, -4.8603, -3.7854, -4.8392, -3.7272, -4.3151, -4.4945, -4.5162, -4.0155, -4.9434, -4.2727, -4.7743, -3.6976, -4.7183, -4.7316, -4.7568, -4.6658, -4.7511, -4.4881, -5.6472, -5.1042, -5.6487, -5.6769, -4.6849, -5.6886, -5.1467, -5.5162, -4.4666, -5.6946, -6.0312, -5.9773, -5.4152, -6.0478, -6.0581, -5.0975, -6.0805, -5.99, -6.031, -6.0165, -6.0514, -6.0414, -5.7448, -5.9966, -6.0975, -5.5461, -6.0598, -6.0424, -6.0762, -4.9581, -4.9473, -5.2338, -5.4258, -5.2569, -4.4153, -5.6131, -5.195, -5.2474, -5.5964, -3.3268, -5.588, -4.4235, -4.4401, -5.4948, -5.4254, -5.4177, -4.0617, -4.4095, -4.381, -4.2753, -4.311, -4.7725, -4.7776, -4.3503, -4.4805, -4.8995, -4.7002, -4.6689, -4.6686, -4.7998, -4.9744, -4.8271, -5.0341, -5.0546, -4.9923, -5.0036, -5.0428, -4.1857, -6.4362, -6.4315, -5.7197, -4.0505, -4.3676, -5.2616, -5.7702, -4.4633, -6.9021, -3.7736, -5.6532, -6.9128, -5.4983, -6.9212, -6.2101, -6.931, -6.0247, -6.5862, -6.9727, -6.2781, -6.2233, -6.5985, -6.2594, -5.5501, -6.5943, -5.4435, -5.3241, -5.4754, -6.3183, -3.7128, -4.6305, -4.7666, -3.4402, -4.7226, -4.1045, -3.7764, -5.1085, -4.4574, -4.5702, -4.8081, -3.8088, -4.3155, -4.0236, -3.9194, -4.9859, -4.614, -4.4462, -4.0638, -4.82, -4.3679, -4.7867, -4.4838, -4.4922, -4.6373, -4.8062, -4.7244], \"loglift\": [30.0, 29.0, 28.0, 27.0, 26.0, 25.0, 24.0, 23.0, 22.0, 21.0, 20.0, 19.0, 18.0, 17.0, 16.0, 15.0, 14.0, 13.0, 12.0, 11.0, 10.0, 9.0, 8.0, 7.0, 6.0, 5.0, 4.0, 3.0, 2.0, 1.0, 0.2533, 0.2494, 0.2309, 0.2164, 0.2095, 0.2021, 0.1999, 0.1984, 0.1974, 0.1974, 0.1957, 0.1937, 0.1933, 0.1884, 0.183, 0.1823, 0.1784, 0.1782, 0.1766, 0.1761, 0.1755, 0.1754, 0.1747, 0.1738, 0.1715, 0.1714, 0.1713, 0.1707, 0.1697, 0.1683, 0.1616, 0.1586, 0.1548, 0.1525, 0.168, 0.1245, 0.1293, 0.1517, 0.1094, 0.1498, 0.0954, 0.1253, 0.1311, 0.1312, 0.0612, 0.1369, 0.0386, 0.0985, -0.1356, 0.0732, 0.0741, 0.0728, 0.0203, -0.0563, 0.851, 0.8052, 0.7827, 0.753, 0.7432, 0.7211, 0.72, 0.7181, 0.7065, 0.705, 0.7046, 0.7028, 0.7012, 0.6997, 0.6906, 0.6884, 0.6865, 0.682, 0.6762, 0.6745, 0.671, 0.6682, 0.6642, 0.6622, 0.6604, 0.6555, 0.6532, 0.6513, 0.6484, 0.6464, 0.6418, 0.6325, 0.6324, 0.6243, 0.6117, 0.5473, 0.6252, 0.5802, 0.5727, 0.6197, 0.2352, 0.6067, 0.3488, 0.3001, 0.5495, 0.5275, 0.5172, -0.239, -0.0982, -0.3043, -0.4221, -0.4162, -0.0777, -0.0916, -0.5252, -0.5082, -0.108, -0.4138, -0.458, -0.4688, -0.5187, -0.3269, -0.9755, -0.2045, -0.1227, -0.5149, -0.6067, -0.4172, 0.5091, 0.4828, 0.4253, 0.4186, 0.3898, 0.3727, 0.359, 0.3536, 0.3423, 0.3212, 0.3031, 0.301, 0.3009, 0.2923, 0.2858, 0.2741, 0.2736, 0.2673, 0.2499, 0.2484, 0.2372, 0.2342, 0.2305, 0.2227, 0.2141, 0.2107, 0.2091, 0.2084, 0.199, 0.1979, 0.1819, 0.1898, 0.1774, 0.1218, 0.1502, 0.1063, 0.0768, 0.1597, 0.1097, 0.1158, 0.1237, 0.0163, -0.0041, -0.0513, -0.0967, 0.0944, 0.0116, -0.0493, -0.2122, 0.0096, -0.1681, -0.0143, -0.2027, -0.2058, -0.1599, -0.091, -0.1756]}, \"token.table\": {\"Topic\": [1, 2, 1, 2, 1, 2, 1, 2, 1, 2, 3, 1, 2, 3, 1, 2, 1, 2, 3, 1, 2, 1, 2, 3, 1, 2, 3, 1, 2, 3, 1, 2, 3, 1, 2, 1, 2, 1, 2, 3, 1, 2, 1, 2, 1, 2, 3, 1, 2, 3, 1, 2, 1, 2, 3, 1, 2, 1, 2, 1, 1, 2, 3, 1, 2, 1, 2, 3, 1, 2, 3, 1, 2, 3, 1, 2, 1, 2, 1, 2, 3, 1, 2, 1, 2, 3, 1, 2, 3, 1, 2, 3, 1, 2, 3, 1, 2, 1, 2, 3, 1, 2, 1, 2, 1, 2, 1, 1, 2, 3, 1, 2, 1, 2, 1, 1, 2, 3, 1, 2, 1, 2, 1, 2, 3, 1, 2, 1, 2, 3, 1, 2, 3, 1, 2, 1, 1, 2, 1, 2, 1, 2, 3, 1, 2, 3, 1, 2, 1, 2, 1, 2, 3, 1, 2, 1, 2, 1, 2, 3, 1, 2, 3, 1, 1, 2, 1, 2, 1, 2, 3, 1, 2, 3, 1, 1, 2, 1, 2, 3, 1, 2, 3, 1, 2, 1, 2, 1, 2, 1, 2, 3, 1, 2, 1, 1, 2, 1, 2, 1, 2, 1, 1, 2, 3, 1, 2, 3, 1, 2, 3, 1, 2, 3, 1, 2, 3, 1, 2, 1, 2, 1, 2, 3, 1, 1, 2, 3, 1, 2, 3, 1, 2, 3, 1, 2, 1, 2, 3, 1, 2, 3, 1, 2, 1, 2, 1, 2, 1, 2, 3, 1, 2, 3, 1, 2, 3, 1, 2, 3, 1, 2, 3, 1, 2, 3, 1, 2, 3, 1, 2, 3, 1, 2, 3, 1, 2, 1, 2, 3, 1, 2, 1, 2, 1, 2, 3, 1, 2, 3, 1, 2, 3, 1, 2, 1, 2, 1, 2, 3, 1, 2, 3, 1, 2, 3, 1, 2, 3, 1, 2], \"Freq\": [0.4068423300160558, 0.4068423300160558, 0.6324245070739181, 0.31621225353695903, 0.3848690503988607, 0.3848690503988607, 0.4879620120612612, 0.4879620120612612, 0.3025101966215336, 0.6050203932430672, 0.10083673220717786, 0.3146731988912674, 0.47200979833690104, 0.1573365994456337, 0.4086013290787935, 0.4086013290787935, 0.8013929974027215, 0.1144847139146745, 0.1144847139146745, 0.4599714320679889, 0.4599714320679889, 0.7659785874030636, 0.12766309790051059, 0.12766309790051059, 0.49862345275713266, 0.3878182410333254, 0.11080521172380725, 0.7341164915181955, 0.12235274858636591, 0.12235274858636591, 0.56279610341876, 0.3410885475265212, 0.10232656425795636, 0.4505139056514139, 0.4505139056514139, 0.37665117182947516, 0.37665117182947516, 0.36590347556189673, 0.36590347556189673, 0.18295173778094836, 0.34876825761630004, 0.52315238642445, 0.6538286093801565, 0.32691430469007826, 0.32344313828206744, 0.539071897136779, 0.10781437942735582, 0.766781633774864, 0.17039591861663644, 0.08519795930831822, 0.8126925956995796, 0.2708975318998599, 0.668088845147395, 0.26723553805895794, 0.13361776902947897, 0.4473603204857766, 0.4473603204857766, 0.3416472488797849, 0.5124708733196774, 1.0201775266573767, 0.7135886861363703, 0.16650402676515305, 0.09514515815151603, 0.2918179096779634, 0.5836358193559268, 0.7515212040999126, 0.12525353401665212, 0.12525353401665212, 0.8019931276395612, 0.11457044680565161, 0.11457044680565161, 0.6958089031036404, 0.189766064482811, 0.12651070965520733, 0.32718551138293783, 0.32718551138293783, 0.3069960953515313, 0.6139921907030625, 0.8105294697196165, 0.1621058939439233, 0.05403529798130777, 0.41857175000035973, 0.41857175000035973, 0.6630251170561372, 0.22100837235204573, 0.22100837235204573, 0.42643105354895783, 0.5117172642587494, 0.08528621070979157, 0.7455041513138075, 0.1397820283713389, 0.09318801891422594, 0.774512825059681, 0.1613568385541002, 0.06454273542164009, 0.8175145918442467, 0.16350291836884934, 0.7815886403238899, 0.14210702551343452, 0.07105351275671726, 0.8653504982673641, 0.12362149975248057, 0.4766986957691748, 0.4766986957691748, 0.4022345421357256, 0.4022345421357256, 0.6512673351623406, 0.7701148187032661, 0.17502609515983322, 0.07001043806393328, 0.754093504114633, 0.25136450137154437, 0.3896156251903128, 0.3896156251903128, 0.6636456512599824, 0.7712952918051736, 0.15425905836103473, 0.15425905836103473, 0.6622005036214489, 0.6622005036214489, 0.7184259234784488, 0.14368518469568978, 0.8015312896565725, 0.11450446995093892, 0.11450446995093892, 0.6337421524746044, 0.3168710762373022, 0.708261278657941, 0.22133164958060655, 0.06639949487418197, 0.8421829161783679, 0.14036381936306133, 0.14036381936306133, 0.49559948143597204, 0.49559948143597204, 0.9761325062079418, 0.4146183331148551, 0.4146183331148551, 0.40823903421068236, 0.40823903421068236, 0.3848468391128036, 0.5131291188170715, 0.12828227970426787, 0.7711546340612102, 0.15423092681224204, 0.07711546340612102, 0.39763558637273855, 0.39763558637273855, 0.29333895214702993, 0.5866779042940599, 0.6897822660249534, 0.27591290640998134, 0.13795645320499067, 0.2938027320478998, 0.5876054640957996, 0.8299267855542412, 0.2074816963885603, 0.7801192598252097, 0.13001987663753495, 0.13001987663753495, 0.7919517571566508, 0.15839035143133015, 0.15839035143133015, 0.6529016268522797, 0.2910797082156658, 0.5821594164313316, 0.48938079607796464, 0.48938079607796464, 0.7302298531444895, 0.18255746328612238, 0.09127873164306119, 0.7097478466356348, 0.1774369616589087, 0.11829130777260581, 0.6572825163114628, 0.4380773588470715, 0.4380773588470715, 0.7543058794578555, 0.15529826930014673, 0.08874186817151242, 0.4678813884027021, 0.4678813884027021, 0.1559604628009007, 0.5588762851283918, 0.3725841900855945, 0.5230178971747075, 0.26150894858735374, 0.7706626248463668, 0.15413252496927338, 0.5640501985557451, 0.28202509927787256, 0.14101254963893628, 0.2972332800132536, 0.5944665600265072, 1.0146318590703272, 0.8454969114769865, 0.14091615191283108, 0.41057627689366444, 0.41057627689366444, 0.47449599405893783, 0.47449599405893783, 0.9419923315592862, 0.4843628002943357, 0.4843628002943357, 0.06919468575633367, 0.6710238523876094, 0.26840954095504377, 0.06710238523876094, 0.7270490988370667, 0.14540981976741335, 0.07270490988370668, 0.7410482712720852, 0.19761287233922273, 0.09880643616961136, 0.8068260794516802, 0.08964734216129779, 0.08964734216129779, 0.4847649638136957, 0.4847649638136957, 0.43675536835660067, 0.43675536835660067, 0.6792711532231371, 0.20378134596694114, 0.06792711532231371, 1.024579545654189, 0.7388459391036697, 0.1231409898506116, 0.1231409898506116, 0.7860511769079791, 0.15721023538159581, 0.07860511769079791, 0.6822168640417968, 0.2623911015545372, 0.10495644062181489, 0.380144935545207, 0.380144935545207, 0.6997561230097995, 0.23325204100326652, 0.05831301025081663, 0.6663929838597883, 0.24232472140355937, 0.06058118035088984, 0.6170850910023693, 0.30854254550118465, 0.4010104814748597, 0.4010104814748597, 0.41192513021128974, 0.41192513021128974, 0.6727052345843336, 0.22423507819477786, 0.22423507819477786, 0.7802345225367158, 0.12003608039026396, 0.12003608039026396, 0.8201619779727901, 0.09112910866364335, 0.06834683149773252, 0.6352989404045734, 0.2647078918352389, 0.15882473510114334, 0.684841305519531, 0.19974538077652987, 0.1141402175865885, 0.5595823915526958, 0.18652746385089863, 0.18652746385089863, 0.7565466302753334, 0.1260911050458889, 0.1260911050458889, 0.7573919049042276, 0.20197117464112738, 0.050492793660281844, 0.8182924681390272, 0.1363820780231712, 0.1363820780231712, 0.5136801893999943, 0.5136801893999943, 0.6854989417496296, 0.25255224169723195, 0.07215778334206627, 0.34115618816366894, 0.5117342822455034, 0.39536720074859677, 0.39536720074859677, 0.7505147509970064, 0.16315538065152313, 0.09789322839091387, 0.39261155531673675, 0.523482073755649, 0.13087051843891226, 0.73896865469881, 0.17594491778543095, 0.07037796711417238, 0.39542259487660997, 0.39542259487660997, 0.3883391333900198, 0.3883391333900198, 0.6575447677187254, 0.18786993363392154, 0.09393496681696077, 0.7777370397783502, 0.13724771290206178, 0.0914984752680412, 0.778447597623987, 0.1556895195247974, 0.0778447597623987, 0.5148907826720884, 0.4004706087449577, 0.05721008696356539, 0.4894740189717469, 0.4894740189717469], \"Term\": [\"\\uac00\\uc774\\ub4dc\", \"\\uac00\\uc774\\ub4dc\", \"\\uac15\\uc6d0\", \"\\uac15\\uc6d0\", \"\\uac15\\ud654\", \"\\uac15\\ud654\", \"\\uac1c\\ubc1c\", \"\\uac1c\\ubc1c\", \"\\uac1c\\ubc1c\\uc790\", \"\\uac1c\\ubc1c\\uc790\", \"\\uac1c\\ubc1c\\uc790\", \"\\uac1c\\uc6d4\", \"\\uac1c\\uc6d4\", \"\\uac1c\\uc6d4\", \"\\uac80\\ud1a0\", \"\\uac80\\ud1a0\", \"\\uacbd\\uc601\", \"\\uacbd\\uc601\", \"\\uacbd\\uc601\", \"\\uace0\\ub4f1\\ud559\\uad50\", \"\\uace0\\ub4f1\\ud559\\uad50\", \"\\uacf5\\ud5cc\", \"\\uacf5\\ud5cc\", \"\\uacf5\\ud5cc\", \"\\uacfc\\uc815\", \"\\uacfc\\uc815\", \"\\uacfc\\uc815\", \"\\uad00\\uc2ec\", \"\\uad00\\uc2ec\", \"\\uad00\\uc2ec\", \"\\uad50\\uc721\", \"\\uad50\\uc721\", \"\\uad50\\uc721\", \"\\uad6c\\ub984\", \"\\uad6c\\ub984\", \"\\uad6c\\uc778\\ub09c\", \"\\uad6c\\uc778\\ub09c\", \"\\uad6c\\uc870\", \"\\uad6c\\uc870\", \"\\uad6c\\uc870\", \"\\uae30\\ubc18\", \"\\uae30\\ubc18\", \"\\uae30\\ubcf8\", \"\\uae30\\ubcf8\", \"\\uae30\\ubcf8\\uae30\", \"\\uae30\\ubcf8\\uae30\", \"\\uae30\\ubcf8\\uae30\", \"\\uae30\\uc220\", \"\\uae30\\uc220\", \"\\uae30\\uc220\", \"\\uae30\\uc790\", \"\\uae30\\uc790\", \"\\uae30\\ucd08\", \"\\uae30\\ucd08\", \"\\uae30\\ucd08\", \"\\uae30\\ud68c\", \"\\uae30\\ud68c\", \"\\uae40\\uc815\\ud55c\", \"\\uae40\\uc815\\ud55c\", \"\\ub0b4\\uc6a9\", \"\\ub124\\ud2b8\", \"\\ub124\\ud2b8\", \"\\ub124\\ud2b8\", \"\\ub274\\uc2a4\", \"\\ub274\\uc2a4\", \"\\ub2e4\\uc591\", \"\\ub2e4\\uc591\", \"\\ub2e4\\uc591\", \"\\ub2f4\\ub2f9\", \"\\ub2f4\\ub2f9\", \"\\ub2f4\\ub2f9\", \"\\ub300\\uc0c1\", \"\\ub300\\uc0c1\", \"\\ub300\\uc0c1\", \"\\ub300\\uccb4\", \"\\ub300\\uccb4\", \"\\ub3c4\\uad6c\", \"\\ub3c4\\uad6c\", \"\\ub3c4\\uc785\", \"\\ub3c4\\uc785\", \"\\ub3c4\\uc785\", \"\\ub3d9\\ub8cc\", \"\\ub3d9\\ub8cc\", \"\\ub3d9\\uc548\", \"\\ub3d9\\uc548\", \"\\ub3d9\\uc548\", \"\\ub798\\ud504\", \"\\ub798\\ud504\", \"\\ub798\\ud504\", \"\\ub808\\uace0\", \"\\ub808\\uace0\", \"\\ub808\\uace0\", \"\\ub85c\\ubd07\", \"\\ub85c\\ubd07\", \"\\ub85c\\ubd07\", \"\\ubaa8\\uc2b5\", \"\\ubaa8\\uc2b5\", \"\\ubaa8\\ud615\", \"\\ubaa8\\ud615\", \"\\ubaa8\\ud615\", \"\\ubaa9\\ud3ec\", \"\\ubaa9\\ud3ec\", \"\\ubaa9\\ud45c\", \"\\ubaa9\\ud45c\", \"\\ubab0\\uc785\", \"\\ubab0\\uc785\", \"\\ubb34\\uc0c1\", \"\\ubb38\\uc81c\", \"\\ubb38\\uc81c\", \"\\ubb38\\uc81c\", \"\\ubc15\\ub78c\\ud68c\", \"\\ubc15\\ub78c\\ud68c\", \"\\ubc1c\\ud45c\", \"\\ubc1c\\ud45c\", \"\\ubc94\\uc8fc\", \"\\ubcf5\\uc6d0\", \"\\ubcf5\\uc6d0\", \"\\ubcf5\\uc6d0\", \"\\ubd84\\uc0b0\", \"\\ubd84\\uc0b0\", \"\\uc0ac\\ub840\", \"\\uc0ac\\ub840\", \"\\uc0ac\\uc6b4\\ub4dc\", \"\\uc0ac\\uc6b4\\ub4dc\", \"\\uc0ac\\uc6b4\\ub4dc\", \"\\uc0ac\\uc9c4\", \"\\uc0ac\\uc9c4\", \"\\uc0ac\\ud68c\", \"\\uc0ac\\ud68c\", \"\\uc0ac\\ud68c\", \"\\uc0b0\\ub9bc\", \"\\uc0b0\\ub9bc\", \"\\uc0b0\\ub9bc\", \"\\uc0b0\\uc5c5\", \"\\uc0b0\\uc5c5\", \"\\uc11c\\uc6b8\", \"\\uc11c\\uc6b8\\ub300\", \"\\uc11c\\uc6b8\\ub300\", \"\\uc120\\ubc1c\", \"\\uc120\\ubc1c\", \"\\uc131\\uacfc\", \"\\uc131\\uacfc\", \"\\uc131\\uacfc\", \"\\uc218\\uc5c5\", \"\\uc218\\uc5c5\", \"\\uc218\\uc5c5\", \"\\uc218\\ud589\", \"\\uc218\\ud589\", \"\\uc288\\ud37c\", \"\\uc288\\ud37c\", \"\\uc2a4\\ub9c8\\ud2b8\", \"\\uc2a4\\ub9c8\\ud2b8\", \"\\uc2a4\\ub9c8\\ud2b8\", \"\\uc2dc\\ub300\", \"\\uc2dc\\ub300\", \"\\uc2dc\\ud589\", \"\\uc2dc\\ud589\", \"\\uc2e0\\ucc3d\", \"\\uc2e0\\ucc3d\", \"\\uc2e0\\ucc3d\", \"\\uc2e4\\uc2dc\", \"\\uc2e4\\uc2dc\", \"\\uc2e4\\uc2dc\", \"\\uc4f0\\ub808\\uae30\", \"\\uc5b8\\uc5b4\", \"\\uc5b8\\uc5b4\", \"\\uc5d4\\uc9c0\\ub2c8\\uc5b4\", \"\\uc5d4\\uc9c0\\ub2c8\\uc5b4\", \"\\uc62c\\ub9ac\\ube0c\", \"\\uc62c\\ub9ac\\ube0c\", \"\\uc62c\\ub9ac\\ube0c\", \"\\uc62c\\ud574\", \"\\uc62c\\ud574\", \"\\uc62c\\ud574\", \"\\uc6b4\\ub3d9\", \"\\uc6b4\\uc601\", \"\\uc6b4\\uc601\", \"\\uc6cd\\uc2a4\", \"\\uc6cd\\uc2a4\", \"\\uc6cd\\uc2a4\", \"\\uc6d0\\uc7a5\", \"\\uc6d0\\uc7a5\", \"\\uc6d0\\uc7a5\", \"\\uc758\\uc7a5\", \"\\uc758\\uc7a5\", \"\\uc774\\ub178\\ubca0\\uc774\\uc158\", \"\\uc774\\ub178\\ubca0\\uc774\\uc158\", \"\\uc774\\ubc88\", \"\\uc774\\ubc88\", \"\\uc774\\ud574\", \"\\uc774\\ud574\", \"\\uc774\\ud574\", \"\\uc778\\ud130\\ubdf0\", \"\\uc778\\ud130\\ubdf0\", \"\\uc784\\uc131\\ud638\", \"\\uc784\\uc9c1\\uc6d0\", \"\\uc784\\uc9c1\\uc6d0\", \"\\uc790\\uae30\", \"\\uc790\\uae30\", \"\\uc790\\uc2e0\", \"\\uc790\\uc2e0\", \"\\uc7ac\\ud310\\ub9e4\", \"\\uc815\\uae00\", \"\\uc815\\uae00\", \"\\uc815\\uae00\", \"\\uc81c\\uacf5\", \"\\uc81c\\uacf5\", \"\\uc81c\\uacf5\", \"\\uc81c\\uc791\", \"\\uc81c\\uc791\", \"\\uc81c\\uc791\", \"\\uc81c\\uc8fc\", \"\\uc81c\\uc8fc\", \"\\uc81c\\uc8fc\", \"\\uc81c\\ucc9c\", \"\\uc81c\\ucc9c\", \"\\uc81c\\ucc9c\", \"\\uc8fc\\ub3c4\", \"\\uc8fc\\ub3c4\", \"\\uc8fc\\ubaa9\", \"\\uc8fc\\ubaa9\", \"\\uc8fc\\uc81c\", \"\\uc8fc\\uc81c\", \"\\uc8fc\\uc81c\", \"\\uc911\\uc544\", \"\\uc911\\ud559\\uad50\", \"\\uc911\\ud559\\uad50\", \"\\uc911\\ud559\\uad50\", \"\\uc9c0\\uc5ed\", \"\\uc9c0\\uc5ed\", \"\\uc9c0\\uc5ed\", \"\\uc9c0\\uc6d0\", \"\\uc9c0\\uc6d0\", \"\\uc9c0\\uc6d0\", \"\\uc9c4\\ub2e8\", \"\\uc9c4\\ub2e8\", \"\\uc9c4\\ud589\", \"\\uc9c4\\ud589\", \"\\uc9c4\\ud589\", \"\\ucc38\\uc5ec\", \"\\ucc38\\uc5ec\", \"\\ucc38\\uc5ec\", \"\\uccad\\uc18c\\ub144\", \"\\uccad\\uc18c\\ub144\", \"\\uccb4\\uc81c\", \"\\uccb4\\uc81c\", \"\\ucd5c\\uc801\", \"\\ucd5c\\uc801\", \"\\ucd94\\uac00\", \"\\ucd94\\uac00\", \"\\ucd94\\uac00\", \"\\ucda9\\ubd81\", \"\\ucda9\\ubd81\", \"\\ucda9\\ubd81\", \"\\ucea0\\ud504\", \"\\ucea0\\ud504\", \"\\ucea0\\ud504\", \"\\ucee4\\ub9ac\\ud058\\ub7fc\", \"\\ucee4\\ub9ac\\ud058\\ub7fc\", \"\\ucee4\\ub9ac\\ud058\\ub7fc\", \"\\ucf54\\ub529\", \"\\ucf54\\ub529\", \"\\ucf54\\ub529\", \"\\ud1a0\\ub860\", \"\\ud1a0\\ub860\", \"\\ud1a0\\ub860\", \"\\ud1f4\\uce58\", \"\\ud1f4\\uce58\", \"\\ud1f4\\uce58\", \"\\ud30c\\uc774\\uc36c\", \"\\ud30c\\uc774\\uc36c\", \"\\ud30c\\uc774\\uc36c\", \"\\ud30c\\uc885\", \"\\ud30c\\uc885\", \"\\ud30c\\uc885\", \"\\ud504\\ub85c\\uadf8\\ub798\\ubc0d\", \"\\ud504\\ub85c\\uadf8\\ub798\\ubc0d\", \"\\ud504\\ub85c\\uadf8\\ub7a8\", \"\\ud504\\ub85c\\uadf8\\ub7a8\", \"\\ud504\\ub85c\\uadf8\\ub7a8\", \"\\ud504\\ub85c\\uc81d\\ud2b8\", \"\\ud504\\ub85c\\uc81d\\ud2b8\", \"\\ud540\\ud1a0\\uc2a4\", \"\\ud540\\ud1a0\\uc2a4\", \"\\ud559\\uc0dd\", \"\\ud559\\uc0dd\", \"\\ud559\\uc0dd\", \"\\ud559\\uc2b5\", \"\\ud559\\uc2b5\", \"\\ud559\\uc2b5\", \"\\ud574\\uacb0\", \"\\ud574\\uacb0\", \"\\ud574\\uacb0\", \"\\ud604\\uc0c1\", \"\\ud604\\uc0c1\", \"\\ud615\\ud0dc\", \"\\ud615\\ud0dc\", \"\\ud655\\ub300\", \"\\ud655\\ub300\", \"\\ud655\\ub300\", \"\\ud658\\uacbd\", \"\\ud658\\uacbd\", \"\\ud658\\uacbd\", \"\\ud65c\\ub3d9\", \"\\ud65c\\ub3d9\", \"\\ud65c\\ub3d9\", \"\\ud65c\\uc6a9\", \"\\ud65c\\uc6a9\", \"\\ud65c\\uc6a9\", \"\\ud765\\uc6d0\", \"\\ud765\\uc6d0\"]}, \"R\": 30, \"lambda.step\": 0.01, \"plot.opts\": {\"xlab\": \"PC1\", \"ylab\": \"PC2\"}, \"topic.order\": [2, 3, 1]};\n",
       "\n",
       "function LDAvis_load_lib(url, callback){\n",
       "  var s = document.createElement('script');\n",
       "  s.src = url;\n",
       "  s.async = true;\n",
       "  s.onreadystatechange = s.onload = callback;\n",
       "  s.onerror = function(){console.warn(\"failed to load library \" + url);};\n",
       "  document.getElementsByTagName(\"head\")[0].appendChild(s);\n",
       "}\n",
       "\n",
       "if(typeof(LDAvis) !== \"undefined\"){\n",
       "   // already loaded: just create the visualization\n",
       "   !function(LDAvis){\n",
       "       new LDAvis(\"#\" + \"ldavis_el113921405732629454086547006121\", ldavis_el113921405732629454086547006121_data);\n",
       "   }(LDAvis);\n",
       "}else if(typeof define === \"function\" && define.amd){\n",
       "   // require.js is available: use it to load d3/LDAvis\n",
       "   require.config({paths: {d3: \"https://d3js.org/d3.v5\"}});\n",
       "   require([\"d3\"], function(d3){\n",
       "      window.d3 = d3;\n",
       "      LDAvis_load_lib(\"https://cdn.jsdelivr.net/gh/bmabey/pyLDAvis@3.4.0/pyLDAvis/js/ldavis.v3.0.0.js\", function(){\n",
       "        new LDAvis(\"#\" + \"ldavis_el113921405732629454086547006121\", ldavis_el113921405732629454086547006121_data);\n",
       "      });\n",
       "    });\n",
       "}else{\n",
       "    // require.js not available: dynamically load d3 & LDAvis\n",
       "    LDAvis_load_lib(\"https://d3js.org/d3.v5.js\", function(){\n",
       "         LDAvis_load_lib(\"https://cdn.jsdelivr.net/gh/bmabey/pyLDAvis@3.4.0/pyLDAvis/js/ldavis.v3.0.0.js\", function(){\n",
       "                 new LDAvis(\"#\" + \"ldavis_el113921405732629454086547006121\", ldavis_el113921405732629454086547006121_data);\n",
       "            })\n",
       "         });\n",
       "}\n",
       "</script>"
      ],
      "text/plain": [
       "PreparedData(topic_coordinates=              x    y  topics  cluster       Freq\n",
       "topic                                           \n",
       "1     -0.025983  0.0       1        1  64.755495\n",
       "2      0.031804  0.0       2        1  26.879228\n",
       "0     -0.005822  0.0       3        1   8.365277, topic_info=    Term       Freq      Total Category  logprob  loglift\n",
       "14    교육  58.000000  58.000000  Default  30.0000  30.0000\n",
       "154   네트  42.000000  42.000000  Default  29.0000  29.0000\n",
       "118   코딩  35.000000  35.000000  Default  28.0000  28.0000\n",
       "183  올리브  43.000000  43.000000  Default  27.0000  27.0000\n",
       "186   웍스  45.000000  45.000000  Default  26.0000  26.0000\n",
       "..   ...        ...        ...      ...      ...      ...\n",
       "168   문제   1.951278  28.567169   Topic3  -4.4838  -0.2027\n",
       "221   해결   1.934980  28.417985   Topic3  -4.4922  -0.2058\n",
       "151   기술   1.673566  23.474741   Topic3  -4.6373  -0.1599\n",
       "158   도입   1.413525  18.506421   Topic3  -4.8062  -0.0910\n",
       "139   환경   1.533991  21.858288   Topic3  -4.7244  -0.1756\n",
       "\n",
       "[209 rows x 6 columns], token_table=      Topic      Freq Term\n",
       "term                      \n",
       "2         1  0.406842  가이드\n",
       "2         2  0.406842  가이드\n",
       "223       1  0.632425   강원\n",
       "223       2  0.316212   강원\n",
       "5         1  0.384869   강화\n",
       "...     ...       ...  ...\n",
       "140       1  0.514891   활용\n",
       "140       2  0.400471   활용\n",
       "140       3  0.057210   활용\n",
       "307       1  0.489474   흥원\n",
       "307       2  0.489474   흥원\n",
       "\n",
       "[311 rows x 3 columns], R=30, lambda_step=0.01, plot_opts={'xlab': 'PC1', 'ylab': 'PC2'}, topic_order=[2, 3, 1])"
      ]
     },
     "execution_count": 21,
     "metadata": {},
     "output_type": "execute_result"
    }
   ],
   "source": [
    "# load pyLDAvis\n",
    "import pyLDAvis\n",
    "import pyLDAvis.gensim\n",
    "\n",
    "# Enable pyLDAvis to run in jupyter notebook.\n",
    "pyLDAvis.enable_notebook()\n",
    "\n",
    "# Run pyLDAvis\n",
    "data = pyLDAvis.gensim.prepare(model, corpus, dictionary)\n",
    "data"
   ]
  }
 ],
 "metadata": {
  "kernelspec": {
   "display_name": "Python 3",
   "language": "python",
   "name": "python3"
  },
  "language_info": {
   "codemirror_mode": {
    "name": "ipython",
    "version": 3
   },
   "file_extension": ".py",
   "mimetype": "text/x-python",
   "name": "python",
   "nbconvert_exporter": "python",
   "pygments_lexer": "ipython3",
   "version": "3.9.13"
  },
  "latex_metadata": {
   "author": "이기황",
   "coursetitle": "텍스트분석기법",
   "courseyear": "2018",
   "date": "2018.04.18",
   "logofile": "figs/ewhauniv-logo.png",
   "logoraise": "-.2",
   "logoscale": ".4",
   "title": "단어 임베딩과 토픽 모델링"
  }
 },
 "nbformat": 4,
 "nbformat_minor": 2
}
