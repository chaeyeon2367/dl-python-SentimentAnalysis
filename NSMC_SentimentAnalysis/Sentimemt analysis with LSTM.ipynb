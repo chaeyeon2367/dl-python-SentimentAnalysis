{
  "cells": [
    {
      "attachments": {},
      "cell_type": "markdown",
      "metadata": {
        "id": "K2TarZxmkj22"
      },
      "source": [
        "## Sentiment analysis with LSTM (Deep learning)"
      ]
    },
    {
      "attachments": {},
      "cell_type": "markdown",
      "metadata": {
        "id": "hvuLst9tkj24"
      },
      "source": [
        "* Tokenize the imported data with POS tagging"
      ]
    },
    {
      "cell_type": "code",
      "execution_count": 3,
      "metadata": {},
      "outputs": [],
      "source": [
        "def read_documents(filename):\n",
        "    with open(filename, encoding='utf-8') as f:\n",
        "        documents = [line.split('\\t') for line in f.read().splitlines()]\n",
        "        documents = documents[1:]\n",
        "        \n",
        "    return documents\n",
        "    \n",
        "train_docs = read_documents(\"/Users/shim/dl-python-SentimentAnalysis/data/ratings_train.txt\")\n",
        "test_docs = read_documents(\"/Users/shim/dl-python-SentimentAnalysis/data/ratings_test.txt\")"
      ]
    },
    {
      "cell_type": "code",
      "execution_count": 4,
      "metadata": {},
      "outputs": [],
      "source": [
        "from konlpy.tag import Mecab\n",
        "from konlpy.tag import Okt\n",
        "import json\n",
        "import os\n",
        "import re\n",
        "from pprint import pprint\n",
        "\n",
        "\n",
        "def text_cleaning(doc):\n",
        "    # A function to remove letters except Korean.\n",
        "    doc = re.sub(\"[^ㄱ-ㅎㅏ-ㅣ가-힣 ]\", \"\", doc)\n",
        "    return doc\n",
        "\n",
        "def define_stopwords(path):\n",
        "    \n",
        "    SW = set()\n",
        "    # How to add a boolean 1.\n",
        "    # SW.add(\"there is\")\n",
        "    \n",
        "    # How to add a stopword 2.\n",
        "    # Add directly to stopwords-en.txt\n",
        "    with open(path) as f:\n",
        "        for word in f:\n",
        "            SW.add(word)\n",
        "            \n",
        "    return SW\n",
        "\n",
        "def text_tokenizing(doc):\n",
        "    return [word for word in mecab.morphs(doc) if word not in SW and len(word) > 1]\n",
        "    \n",
        "    # extract only nouns for a wordcloud.\n",
        "    #return [word for word in mecab.nouns(doc) if word not in SW and len(word) > 1]"
      ]
    },
    {
      "cell_type": "code",
      "execution_count": 5,
      "metadata": {
        "id": "h9p-D2Tukj24"
      },
      "outputs": [
        {
          "name": "stdout",
          "output_type": "stream",
          "text": [
            "[['진짜', '짜증', '네요', '목소리'], '0']\n",
            "[['평점', '나쁘', '지만', '짜리', '더더욱', '아니', '잖아'], '0']\n"
          ]
        }
      ],
      "source": [
        "okt = Okt()\n",
        "mecab = Mecab()\n",
        "\n",
        "if os.path.exists('train_docs.json'):\n",
        "    with open(\"train_docs.json\", encoding='utf-8') as f:\n",
        "        train_data = json.load(f)\n",
        "else:\n",
        "    train_data = [(text_tokenizing(text_cleaning(line[1])), line[2]) for line in train_docs if text_tokenizing(line[1])]\n",
        "    #train_data = [(text_tokenizing(line[1]), line[2]) for line in train_docs if text_tokenizing(line[1])]\n",
        "    \n",
        "    with open(\"train_docs.json\", 'w', encoding='utf-8') as f:\n",
        "        json.dump(train_data, f, ensure_ascii=False, indent='\\t')\n",
        "        \n",
        "if os.path.exists('test_docs.json'):\n",
        "    with open(\"test_docs.json\", encoding='utf-8') as f:\n",
        "        test_data = json.load(f)\n",
        "else:\n",
        "    test_data = [(text_tokenizing(text_cleaning(line[1])), line[2]) for line in test_docs if text_tokenizing(line[1])]\n",
        "    #test_data = [(text_tokenizing(line[1]), line[2]) for line in test_docs if text_tokenizing(line[1])]\n",
        "    with open(\"test_docs.json\", 'w', encoding='utf-8') as f:\n",
        "        json.dump(test_data, f, ensure_ascii=False, indent='\\t')\n",
        "\n",
        "pprint(train_data[0])\n",
        "pprint(test_data[0])"
      ]
    },
    {
      "cell_type": "code",
      "execution_count": 6,
      "metadata": {
        "id": "ZP0ohw8Wkj25",
        "outputId": "2c4d03a7-6e7c-42a1-9a1e-38107f03e46e"
      },
      "outputs": [
        {
          "name": "stdout",
          "output_type": "stream",
          "text": [
            "[[['진짜', '짜증', '네요', '목소리'], '0'], [['포스터', '보고', '초딩', '영화', '오버', '연기', '조차', '가볍', '구나'], '1'], [['너무', '밓었다그래서보는것을추천한다'], '0']]\n"
          ]
        }
      ],
      "source": [
        "print(train_data[:3])"
      ]
    },
    {
      "attachments": {},
      "cell_type": "markdown",
      "metadata": {
        "id": "srCsl3JIkj25"
      },
      "source": [
        "* Check basic information to analyze the data.\n",
        "\n",
        "* Use NLTK libraries for preprocessing."
      ]
    },
    {
      "attachments": {},
      "cell_type": "markdown",
      "metadata": {
        "id": "r993cflNkj26"
      },
      "source": [
        "## Classify with a Deep Neural Network"
      ]
    },
    {
      "cell_type": "code",
      "execution_count": 7,
      "metadata": {
        "id": "zCxpBWvckj26"
      },
      "outputs": [],
      "source": [
        "# Import the required libraries\n",
        "import numpy as np\n",
        "import tensorflow as tf\n",
        "from tensorflow.keras.preprocessing.text import Tokenizer\n",
        "from tensorflow.keras.layers import Embedding, Dense, LSTM\n",
        "from tensorflow.keras.preprocessing.sequence import pad_sequences\n",
        "from tensorflow.keras.models import Sequential"
      ]
    },
    {
      "cell_type": "markdown",
      "metadata": {
        "id": "VScvcn7pkj26"
      },
      "source": [
        "## Set Hyperparameter "
      ]
    },
    {
      "cell_type": "code",
      "execution_count": 19,
      "metadata": {},
      "outputs": [],
      "source": [
        "max_words = 35000\n",
        "max_len = 30   #Maximum length of the network\n",
        "batch_size = 128\n",
        "EPOCHS = 100"
      ]
    },
    {
      "cell_type": "markdown",
      "metadata": {
        "id": "nxebNrfokj27"
      },
      "source": [
        "## Define Network Structure "
      ]
    },
    {
      "cell_type": "code",
      "execution_count": 16,
      "metadata": {},
      "outputs": [],
      "source": [
        "class SimpleLSTM(tf.keras.Model):\n",
        "    def __init__(self):\n",
        "        super().__init__()\n",
        "        self.emb = Embedding(max_words,100)\n",
        "        self.lstm = LSTM(128,dropout=0.2, recurrent_dropout=0.2)\n",
        "        self.dense = Dense(1, activation = \"sigmoid\")\n",
        "\n",
        "    def __call__(self, x , training= None , mask = None):\n",
        "        x = self.emb(x)\n",
        "        x = self.lstm(x)\n",
        "        return self.dense(x)"
      ]
    },
    {
      "cell_type": "markdown",
      "metadata": {
        "id": "gZm0IId9kj27"
      },
      "source": [
        "## Data Preprocessing "
      ]
    },
    {
      "cell_type": "code",
      "execution_count": 14,
      "metadata": {},
      "outputs": [
        {
          "name": "stdout",
          "output_type": "stream",
          "text": [
            "[9, 110, 7, 458]\n",
            "\n",
            " [  0   0   0   0   0   0   0   0   0   0   0   0   0   0   0   0   0   0\n",
            "   0   0   0   0   0   0   0   0   9 110   7 458]\n"
          ]
        }
      ],
      "source": [
        "#Make it similar to what you did with svm\n",
        "x_train = [doc for doc, _ in train_data]\n",
        "\n",
        "#tokenizing to a form for use by keras\n",
        "tokenizer = Tokenizer(num_words= max_words)\n",
        "tokenizer.fit_on_texts(x_train)\n",
        "\n",
        "#Conversion to put as input to an LSTM\n",
        "x_train = tokenizer.texts_to_sequences(x_train)\n",
        "x_test = tokenizer.texts_to_sequences([doc for doc, _ in test_data])\n",
        "y_train = np.array([int(label) for _, label in train_data])\n",
        "y_test = np.array([int(label) for _, label in test_data])\n",
        "print(x_train[0])\n",
        "\n",
        "# zero padding for sizing\n",
        "x_train = pad_sequences(x_train, value=0, padding='pre', maxlen = max_len)\n",
        "x_test = pad_sequences(x_test, value=0, padding='pre', maxlen = max_len)\n",
        "print(\"\\n\", x_train[0])\n",
        "\n",
        "# final conversion to learnable form\n",
        "train_ds = tf.data.Dataset.from_tensor_slices((x_train, y_train)).shuffle(10000).batch(batch_size)\n",
        "test_ds = tf.data.Dataset.from_tensor_slices((x_test, y_test)).batch(batch_size)"
      ]
    },
    {
      "cell_type": "markdown",
      "metadata": {
        "id": "fG22JotHkj28"
      },
      "source": [
        "## Set Model "
      ]
    },
    {
      "cell_type": "code",
      "execution_count": 17,
      "metadata": {},
      "outputs": [],
      "source": [
        "#Set the model\n",
        "model = SimpleLSTM()\n",
        "\n",
        "# Compile the model\n",
        "model.compile(optimizer = \"adam\", loss = \"binary_crossentropy\", metrics = [\"accuracy\"])"
      ]
    },
    {
      "cell_type": "markdown",
      "metadata": {
        "id": "H9xNpGE_kj29"
      },
      "source": [
        "## Early Stopping Callback"
      ]
    },
    {
      "cell_type": "code",
      "execution_count": 18,
      "metadata": {
        "id": "31bqQy5okj29"
      },
      "outputs": [],
      "source": [
        "earlystopper = tf.keras.callbacks.EarlyStopping(monitor=\"val_loss\", patience=10, verbose=1)"
      ]
    },
    {
      "cell_type": "markdown",
      "metadata": {
        "id": "BD4qHDzbkj2-"
      },
      "source": [
        "## Run Model "
      ]
    },
    {
      "cell_type": "code",
      "execution_count": 20,
      "metadata": {
        "id": "C-pZKcZMkj2-",
        "outputId": "2fe80d31-291b-46ed-d6a0-5af8ec8d848d"
      },
      "outputs": [
        {
          "name": "stdout",
          "output_type": "stream",
          "text": [
            "Epoch 1/100\n",
            "1145/1145 [==============================] - 65s 55ms/step - loss: 0.4160 - accuracy: 0.8036 - val_loss: 0.3850 - val_accuracy: 0.8227\n",
            "Epoch 2/100\n",
            "1145/1145 [==============================] - 70s 61ms/step - loss: 0.3316 - accuracy: 0.8542 - val_loss: 0.4001 - val_accuracy: 0.8236\n",
            "Epoch 3/100\n",
            "1145/1145 [==============================] - 73s 63ms/step - loss: 0.2768 - accuracy: 0.8800 - val_loss: 0.4450 - val_accuracy: 0.8184\n",
            "Epoch 4/100\n",
            "1145/1145 [==============================] - 73s 63ms/step - loss: 0.2271 - accuracy: 0.9029 - val_loss: 0.5108 - val_accuracy: 0.8137\n",
            "Epoch 5/100\n",
            "1145/1145 [==============================] - 77s 67ms/step - loss: 0.1893 - accuracy: 0.9196 - val_loss: 0.5594 - val_accuracy: 0.8069\n",
            "Epoch 6/100\n",
            "1145/1145 [==============================] - 74s 65ms/step - loss: 0.1627 - accuracy: 0.9310 - val_loss: 0.6573 - val_accuracy: 0.8066\n",
            "Epoch 7/100\n",
            "1145/1145 [==============================] - 76s 66ms/step - loss: 0.1433 - accuracy: 0.9392 - val_loss: 0.7228 - val_accuracy: 0.8009\n",
            "Epoch 8/100\n",
            "1145/1145 [==============================] - 77s 67ms/step - loss: 0.1294 - accuracy: 0.9449 - val_loss: 0.8140 - val_accuracy: 0.8037\n",
            "Epoch 9/100\n",
            "1145/1145 [==============================] - 77s 68ms/step - loss: 0.1175 - accuracy: 0.9503 - val_loss: 0.9312 - val_accuracy: 0.8019\n",
            "Epoch 10/100\n",
            "1145/1145 [==============================] - 78s 68ms/step - loss: 0.1100 - accuracy: 0.9531 - val_loss: 0.8808 - val_accuracy: 0.8008\n",
            "Epoch 11/100\n",
            "1145/1145 [==============================] - 79s 69ms/step - loss: 0.1015 - accuracy: 0.9562 - val_loss: 1.0620 - val_accuracy: 0.7995\n",
            "Epoch 11: early stopping\n"
          ]
        }
      ],
      "source": [
        "# Run, save results\n",
        "history = model.fit(train_ds, validation_data=test_ds, epochs=EPOCHS, callbacks=[earlystopper])"
      ]
    },
    {
      "cell_type": "code",
      "execution_count": 21,
      "metadata": {
        "id": "OKFxizVJkj2-",
        "outputId": "af5c90cd-c08f-49e1-b178-a3758958ffdd"
      },
      "outputs": [
        {
          "name": "stdout",
          "output_type": "stream",
          "text": [
            "382/382 [==============================] - 5s 14ms/step - loss: 1.0620 - accuracy: 0.7995\n"
          ]
        }
      ],
      "source": [
        "# Model Test\n",
        "score, acc = model.evaluate(x_test,y_test, batch_size=batch_size)"
      ]
    },
    {
      "cell_type": "code",
      "execution_count": 23,
      "metadata": {
        "id": "3es7N7O4kj2_",
        "outputId": "25734f90-5080-44a6-d828-feefadf03f50"
      },
      "outputs": [
        {
          "name": "stdout",
          "output_type": "stream",
          "text": [
            "Test Score:  1.0619655847549438\n",
            "Test Accuracy:  0.7995416522026062\n"
          ]
        }
      ],
      "source": [
        "print(\"Test Score: \", score)\n",
        "print(\"Test Accuracy: \", acc)"
      ]
    },
    {
      "cell_type": "markdown",
      "metadata": {
        "id": "hu0rfQnmkj2_"
      },
      "source": [
        "## Loss Visualization "
      ]
    },
    {
      "cell_type": "code",
      "execution_count": 24,
      "metadata": {
        "id": "yYyPcLo1kj2_",
        "outputId": "57b07928-9cb9-4eef-8d4c-968d5fa89b69"
      },
      "outputs": [
        {
          "data": {
            "image/png": "[encoded data removed]",
            "text/plain": [
              "<Figure size 640x480 with 1 Axes>"
            ]
          },
          "metadata": {},
          "output_type": "display_data"
        }
      ],
      "source": [
        "import matplotlib.pyplot as plt\n",
        "%matplotlib inline\n",
        "\n",
        "loss = history.history['loss']\n",
        "val_loss = history.history['val_loss']\n",
        "\n",
        "plt.figure()\n",
        "plt.plot(loss, 'ro-', label=\"train_loss\")\n",
        "plt.plot(val_loss, 'bo-', label=\"val_loss\")\n",
        "plt.ylabel('Cross Entropy')\n",
        "plt.xlabel('Epoch')\n",
        "plt.legend(loc=\"best\")\n",
        "plt.title('Training and Validation Loss')\n",
        "plt.show()"
      ]
    },
    {
      "cell_type": "markdown",
      "metadata": {
        "id": "572SxlgPkj3A"
      },
      "source": [
        "## Save Weight "
      ]
    },
    {
      "cell_type": "code",
      "execution_count": 25,
      "metadata": {
        "id": "aF_sBftfkj3A"
      },
      "outputs": [],
      "source": [
        "# Save model weight matrix .\n",
        "model.save_weights(\"nsmc_keras_simplelstm\")"
      ]
    }
  ],
  "metadata": {
    "colab": {
      "collapsed_sections": [],
      "name": "[해설]28~29.LSTM을 이용한 감성분석.ipynb",
      "provenance": []
    },
    "kernelspec": {
      "display_name": "Python 3",
      "language": "python",
      "name": "python3"
    },
    "language_info": {
      "codemirror_mode": {
        "name": "ipython",
        "version": 3
      },
      "file_extension": ".py",
      "mimetype": "text/x-python",
      "name": "python",
      "nbconvert_exporter": "python",
      "pygments_lexer": "ipython3",
      "version": "3.9.13"
    }
  },
  "nbformat": 4,
  "nbformat_minor": 0
}
