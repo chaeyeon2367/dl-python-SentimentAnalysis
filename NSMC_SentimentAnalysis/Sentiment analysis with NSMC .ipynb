{
 "cells": [
  {
   "attachments": {},
   "cell_type": "markdown",
   "metadata": {},
   "source": [
    "## Sentiment analysis with NSMC (text classification) "
   ]
  },
  {
   "attachments": {},
   "cell_type": "markdown",
   "metadata": {},
   "source": [
    "### 1. What is sentiment analysis?\n",
    "\n",
    "* Natural Language Processing, Text Analysis, Computational Lingustics, and biometrics are used to find out the author's intention or information hidden in the text.\n",
    "\n",
    "\n",
    "* It is also called Opinion Mining, Sentiment Mining, and Subjectivity Analysis.\n",
    "\n",
    "\n",
    "* The early methods were tried a lot to find the polarity of the text. A typical example is the case of dividing into <b>positive/negative</b>.\n",
    "\n",
    "\n",
    "* Sentiment analysis is largely divided into a knowledge-based approach and a machine learning-based approach.\n",
    "\n",
    "> Knowledge-based is a method that imports data that has already been evaluated by human experts using known phrases, endings, and idiomatic expressions.\n",
    "\n",
    "> ML-based approach has supervised and unsupervised methods. Recently, as pretrained language models have been developed by leaps and bounds, the performance of unsupervised methods has increased, but supervised is still superior in terms of performance."
   ]
  },
  {
   "attachments": {},
   "cell_type": "markdown",
   "metadata": {},
   "source": [
    "### 2. What is text classification?\n",
    "\n",
    "* It is a method of literally classifying text represented in vector form.\n",
    "\n",
    "\n",
    "* SVMs were the most commonly used until DNNs improved performance by a huge percentage.\n",
    "\n",
    "\n",
    "* Currently, CNN and LSTM are the most popular classification models.\n",
    "\n",
    "\n",
    "* In practice, the task of text classification largely includes most NLP downstream tasks.\n",
    "\n",
    "\n",
    "* For example, if we train a question-answer pair using a Siamese Network, the classification problem becomes one of \"did I choose the right answer for a particular question (0 / 1)\"."
   ]
  },
  {
   "attachments": {},
   "cell_type": "markdown",
   "metadata": {},
   "source": [
    "### 3. Analyze NSMC sentiment with scikit-learn"
   ]
  },
  {
   "cell_type": "code",
   "execution_count": 1,
   "metadata": {},
   "outputs": [],
   "source": [
    "def read_documents(filename):\n",
    "    with open(filename, encoding='utf-8') as f:\n",
    "        documents = [line.split('\\t') for line in f.read().splitlines()]\n",
    "        documents = documents[1:]\n",
    "        \n",
    "    return documents\n",
    "    \n",
    "train_docs = read_documents(\"/Users/shim/dl-python-SentimentAnalysis/data/ratings_train.txt\")\n",
    "test_docs = read_documents(\"/Users/shim/dl-python-SentimentAnalysis/data/ratings_test.txt\")"
   ]
  },
  {
   "cell_type": "code",
   "execution_count": 2,
   "metadata": {},
   "outputs": [
    {
     "name": "stdout",
     "output_type": "stream",
     "text": [
      "150000\n",
      "50000\n"
     ]
    }
   ],
   "source": [
    "print(len(train_docs))\n",
    "print(len(test_docs))"
   ]
  },
  {
   "cell_type": "code",
   "execution_count": 3,
   "metadata": {},
   "outputs": [],
   "source": [
    "def text_cleaning(doc):\n",
    "    # A function to remove letters except Korean.\n",
    "    doc = re.sub(\"[^ㄱ-ㅎㅏ-ㅣ가-힣 ]\", \"\", doc)\n",
    "    return doc\n",
    "\n",
    "def define_stopwords(path):\n",
    "    \n",
    "    SW = set()\n",
    "    # How to add a boolean 1.\n",
    "    # SW.add(\"there is\")\n",
    "    \n",
    "    # How to add a stopword 2.\n",
    "    # Add directly to stopwords-en.txt\n",
    "    with open(path) as f:\n",
    "        for word in f:\n",
    "            SW.add(word)\n",
    "            \n",
    "    return SW\n",
    "\n",
    "def text_tokenizing(doc):\n",
    "    return [word for word in mecab.morphs(doc) if word not in SW and len(word) > 1]\n",
    "    \n",
    "    # extract only nouns for a wordcloud.\n",
    "    #return [word for word in mecab.nouns(doc) if word not in SW and len(word) > 1]"
   ]
  },
  {
   "attachments": {},
   "cell_type": "markdown",
   "metadata": {},
   "source": [
    "* Tokenize the imported data with part-of-speech tags."
   ]
  },
  {
   "cell_type": "code",
   "execution_count": 6,
   "metadata": {},
   "outputs": [
    {
     "name": "stdout",
     "output_type": "stream",
     "text": [
      "[['진짜', '짜증', '네요', '목소리'], '0']\n",
      "[['평점', '나쁘', '지만', '짜리', '더더욱', '아니', '잖아'], '0']\n"
     ]
    }
   ],
   "source": [
    "from konlpy.tag import Mecab\n",
    "from konlpy.tag import Okt\n",
    "import json\n",
    "import os\n",
    "import re\n",
    "from pprint import pprint\n",
    "\n",
    "#okt = Okt()\n",
    "mecab = Mecab()\n",
    "\n",
    "SW = define_stopwords(\"/Users/shim/dl-python-SentimentAnalysis/Konlpy/stopwords-ko.txt\")\n",
    "\n",
    "if os.path.exists('train_docs.json'):\n",
    "    with open(\"train_docs.json\", encoding='utf-8') as f:\n",
    "        train_data = json.load(f)\n",
    "else:\n",
    "    # Create 2 versions of train_data. 1) With cleaning   2) Without cleaning\n",
    "\n",
    "    train_data = [(text_tokenizing(text_cleaning(line[1])), line[2]) for line in train_docs if text_tokenizing(text_cleaning(line[1]))]\n",
    "    #train_data = [(text_tokenizing(line[1]), line[2]) for line in train_docs if text_tokenizing(line[1])]\n",
    "    \n",
    "    with open(\"train_docs.json\", 'w', encoding='utf-8') as f:\n",
    "        json.dump(train_data, f, ensure_ascii=False, indent='\\t')\n",
    "        \n",
    "if os.path.exists('test_docs.json'):\n",
    "    with open(\"test_docs.json\", encoding='utf-8') as f:\n",
    "        test_data = json.load(f)\n",
    "else:\n",
    "    test_data = [(text_tokenizing(text_cleaning(line[1])), line[2]) for line in test_docs if text_tokenizing(text_cleaning(line[1]))]\n",
    "    #test_data = [(text_tokenizing(line[1]), line[2]) for line in test_docs if text_tokenizing(line[1])]\n",
    "    with open(\"test_docs.json\", 'w', encoding='utf-8') as f:\n",
    "        json.dump(test_data, f, ensure_ascii=False, indent='\\t')\n",
    "\n",
    "pprint(train_data[0])\n",
    "pprint(test_data[0])"
   ]
  },
  {
   "cell_type": "code",
   "execution_count": 7,
   "metadata": {},
   "outputs": [
    {
     "name": "stdout",
     "output_type": "stream",
     "text": [
      "[[['진짜', '짜증', '네요', '목소리'], '0'], [['포스터', '보고', '초딩', '영화', '오버', '연기', '조차', '가볍', '구나'], '1'], [['너무', '밓었다그래서보는것을추천한다'], '0']]\n",
      "3535\n",
      "1127\n"
     ]
    }
   ],
   "source": [
    "print(train_data[:3])\n",
    "print(len(train_docs)- len(train_data))\n",
    "print(len(test_docs)- len(test_data))\n"
   ]
  },
  {
   "attachments": {},
   "cell_type": "markdown",
   "metadata": {},
   "source": [
    "* Check basic information to analyze the data.\n",
    "\n",
    "* Perform preprocessing using the NLTK library."
   ]
  },
  {
   "cell_type": "code",
   "execution_count": 8,
   "metadata": {},
   "outputs": [
    {
     "name": "stdout",
     "output_type": "stream",
     "text": [
      "1137741\n"
     ]
    }
   ],
   "source": [
    "import nltk\n",
    "\n",
    "total_tokens = [token for doc in train_data for token in doc[0]]\n",
    "print(len(total_tokens))"
   ]
  },
  {
   "cell_type": "code",
   "execution_count": 10,
   "metadata": {},
   "outputs": [
    {
     "name": "stdout",
     "output_type": "stream",
     "text": [
      "48124\n",
      "[('영화', 57630),\n",
      " ('는데', 11407),\n",
      " ('너무', 11013),\n",
      " ('정말', 9779),\n",
      " ('으로', 9314),\n",
      " ('재밌', 8989),\n",
      " ('네요', 8977),\n",
      " ('지만', 8737),\n",
      " ('진짜', 8327),\n",
      " ('에서', 8069)]\n"
     ]
    }
   ],
   "source": [
    "text = nltk.Text(total_tokens, name='NMSC')\n",
    "print(len(set(text.tokens)))\n",
    "pprint(text.vocab().most_common(10))"
   ]
  },
  {
   "cell_type": "code",
   "execution_count": 11,
   "metadata": {},
   "outputs": [
    {
     "data": {
      "image/png": "[encoded data removed]",
      "text/plain": [
       "<Figure size 1600x1000 with 1 Axes>"
      ]
     },
     "metadata": {},
     "output_type": "display_data"
    },
    {
     "data": {
      "text/plain": [
       "<Axes: xlabel='Samples', ylabel='Counts'>"
      ]
     },
     "execution_count": 11,
     "metadata": {},
     "output_type": "execute_result"
    }
   ],
   "source": [
    "import matplotlib.pyplot as plt\n",
    "import platform\n",
    "from matplotlib import font_manager, rc\n",
    "%matplotlib inline\n",
    "\n",
    "path = \"c:/Windows/Fonts/malgun.ttf\"\n",
    "if platform.system() == 'Darwin':\n",
    "    rc('font', family='AppleGothic')\n",
    "elif platform.system() == 'Windows':\n",
    "    font_name = font_manager.FontProperties(fname=path).get_name()\n",
    "    rc('font', family=font_name)\n",
    "else:\n",
    "    print('Unknown system... sorry~~~~')\n",
    "\n",
    "plt.figure(figsize=(16, 10))\n",
    "text.plot(50)"
   ]
  },
  {
   "cell_type": "code",
   "execution_count": 13,
   "metadata": {},
   "outputs": [],
   "source": [
    "# a function that combines multiple lists into one\n",
    "def list_to_str(List): \n",
    "    return \" \".join(List)"
   ]
  },
  {
   "attachments": {},
   "cell_type": "markdown",
   "metadata": {},
   "source": [
    "### 4. Classification of nsmc with Linear Classifier and Support Vector Machine"
   ]
  },
  {
   "cell_type": "code",
   "execution_count": 14,
   "metadata": {},
   "outputs": [
    {
     "name": "stdout",
     "output_type": "stream",
     "text": [
      "146465 146465\n",
      "For 146465 train data\n",
      "48873 48873\n",
      "For 48873 test data\n",
      "Training Accuracy : 0.85\n",
      "Test Accuracy : 0.77\n"
     ]
    }
   ],
   "source": [
    "from sklearn.pipeline import Pipeline\n",
    "from sklearn.feature_extraction.text import CountVectorizer\n",
    "from sklearn.linear_model import SGDClassifier\n",
    "from sklearn.svm import SVC\n",
    "from sklearn.naive_bayes import MultinomialNB\n",
    "import numpy as np\n",
    "\n",
    "#Unifying the shape of your dataset for training\n",
    "train_x = [list_to_str(doc) for doc, _ in train_data]\n",
    "test_x = [list_to_str(doc) for doc, _ in test_data]\n",
    "train_y = [label for _, label in train_data]\n",
    "test_y = [label for _, label in test_data]\n",
    "\n",
    "print(len(train_x), len(train_y))\n",
    "print(\"For %d train data\" % len(train_x))\n",
    "print(len(test_x), len(test_y))\n",
    "\n",
    "#1. Perceptron linear classifier\n",
    "learner = Pipeline([\n",
    "    ('vect', CountVectorizer()),\n",
    "    ('clf', SGDClassifier(loss='perceptron', penalty='l2',\n",
    "                         alpha=1e-4, random_state=42,\n",
    "                         max_iter=100))\n",
    "])\n",
    "\n",
    "#2. SVM with linear kernel\n",
    "learner2 = Pipeline([\n",
    "    ('vect', CountVectorizer()),\n",
    "    ('clf', SVC(kernel='linear'))\n",
    "    \n",
    "])\n",
    "\n",
    "#3. SVM with polynomial kernel\n",
    "learner3 = Pipeline([\n",
    "    ('vect', CountVectorizer()),\n",
    "    ('clf', SVC(kernel='poly', degree=8))\n",
    "])\n",
    "\n",
    "#4. SVM with Radius Basic Function kernel\n",
    "learner4 = Pipeline([\n",
    "    ('vect', CountVectorizer()),\n",
    "    ('clf', SVC(kernel='rbf'))\n",
    "])\n",
    "\n",
    "#5. SVM with Radius sigmoid kernel\n",
    "learner5 = Pipeline([\n",
    "    ('vect', CountVectorizer()),\n",
    "    ('clf', SVC(kernel='sigmoid'))\n",
    "])\n",
    "\n",
    "#6. SVM with Naive Bayes Classifier (Multinomial Ver.)\n",
    "learner6 = Pipeline([\n",
    "    ('vect', CountVectorizer()),\n",
    "    ('mb', MultinomialNB())\n",
    "])\n",
    "\n",
    "#learning models\n",
    "classifier = learner\n",
    "\n",
    "classifier.fit(train_x, train_y)\n",
    "train_predict = classifier.predict(train_x)\n",
    "train_accuracy = np.mean(train_predict == train_y)\n",
    "\n",
    "test_predict = classifier.predict(test_x)\n",
    "test_accuracy = np.mean(test_predict == test_y)\n",
    "\n",
    "# TEST and Measure performance\n",
    "print(\"For %d test data\" % len(test_x))\n",
    "\n",
    "print(\"Training Accuracy : %.2f\" % train_accuracy)\n",
    "print(\"Test Accuracy : %.2f\" % test_accuracy)"
   ]
  },
  {
   "attachments": {},
   "cell_type": "markdown",
   "metadata": {},
   "source": [
    "### < Experimental results 1 >\n",
    "\n",
    "#### Train a linear classifier to measure test accuracy. (learner)\n",
    "\n",
    "1. extract nouns only : 0.51\n",
    "2. no preprocessing and stemming : 0.67\n",
    "3. preprocessing and stemming : 0.76\n",
    "\n",
    "-----Using only top 500 features --------\n",
    "4. 3 + all features : 0.77"
   ]
  },
  {
   "attachments": {},
   "cell_type": "markdown",
   "metadata": {},
   "source": [
    "### < Experimental results >\n",
    "\n",
    "#### Train an SVM classifier to measure test accuracy. (learner2)\n",
    "\n",
    "1. extract nouns only : 0.53\n",
    "2. no preprocessing and stemming : 0.72\n",
    "3. preprocessing and stemming : 0.77\n",
    "\n",
    "-----Using only top 500 features so far--------\n",
    "4. 3 + all features : 0.81"
   ]
  },
  {
   "attachments": {},
   "cell_type": "markdown",
   "metadata": {},
   "source": [
    "### < Conclusion >\n",
    "\n",
    "1. extracting only nouns does not provide clear information on the classification problem of NSMC data. \n",
    "\n",
    "2. There is a difference in performance with and without preprocessing. Since there are many special characters in NSMC data, excluding special characters makes the tokens more canonical (text normalization). \n",
    "\n",
    "3. It is more performant to use all dimension sources rather than truncating the top 500 with high frequency. \n",
    "\n",
    "4. Comparison performance Countvectorizer vs TF-IDF Vectorizer\n",
    "\n",
    "5. Tuning hyperparameters for better performance"
   ]
  }
 ],
 "metadata": {
  "kernelspec": {
   "display_name": "Python 3",
   "language": "python",
   "name": "python3"
  },
  "language_info": {
   "codemirror_mode": {
    "name": "ipython",
    "version": 3
   },
   "file_extension": ".py",
   "mimetype": "text/x-python",
   "name": "python",
   "nbconvert_exporter": "python",
   "pygments_lexer": "ipython3",
   "version": "3.9.13"
  }
 },
 "nbformat": 4,
 "nbformat_minor": 2
}
