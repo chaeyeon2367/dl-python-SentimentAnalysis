{
 "cells": [
  {
   "cell_type": "markdown",
   "metadata": {
    "id": "qmWYyknfW-PX"
   },
   "source": [
    "# Get NAVER News data\n",
    "\n",
    "> 1. Crawl article URL with NAVER Open API\n",
    "> 2. Crawl article title and content with bs4 + selenium\n"
   ]
  },
  {
   "cell_type": "code",
   "execution_count": 23,
   "metadata": {
    "id": "vM6pz-WpW-PY"
   },
   "outputs": [],
   "source": [
    "import os\n",
    "import sys\n",
    "import urllib.request\n",
    "import requests\n",
    "\n",
    "news_data = []\n",
    "page_count = 3\n",
    "\n",
    "client_id = \"86KY9n3Yfn_9uZvaOE3O\"\n",
    "client_secret = \"tvF4uQD_Qn\" # issued client_secret\n",
    "encText = urllib.parse.quote(\"파이썬\")\n",
    "\n",
    "for idx in range(page_count):\n",
    "    # json 결과\n",
    "    url = \"https://openapi.naver.com/v1/search/news?query=\" + encText + \"&start=\" + str(idx * 10 + 1)\n",
    "    # url = \"https://openapi.naver.com/v1/search/blog.xml?query=\" + encText # xml result\n",
    "    request = urllib.request.Request(url)\n",
    "    request.add_header(\"X-Naver-Client-Id\",client_id)\n",
    "    request.add_header(\"X-Naver-Client-Secret\",client_secret)\n",
    "    response = urllib.request.urlopen(request)\n",
    "    rescode = response.getcode()\n",
    "\n",
    "    if(rescode==200):\n",
    "    #    response_body = response.read()\n",
    "        result = requests.get(response.geturl(),\n",
    "                              headers={\"X-Naver-Client-Id\":client_id,\n",
    "                                       \"X-Naver-Client-Secret\":client_secret}\n",
    "                             )\n",
    "        news_data.append(result.json())\n",
    "    #    print(response_body.decode('utf-8'))\n",
    "    else:\n",
    "        print(\"Error Code:\" + rescode)"
   ]
  },
  {
   "cell_type": "markdown",
   "metadata": {
    "id": "5GQlF1-OW-PZ"
   },
   "source": [
    "### Check the data fetched through NAVER OPEN API"
   ]
  },
  {
   "cell_type": "code",
   "execution_count": 24,
   "metadata": {
    "colab": {
     "base_uri": "https://localhost:8080/"
    },
    "id": "0XOwBrHRW-Pa",
    "outputId": "94f9957a-297d-4bf6-82a6-c6e70ea3e91f"
   },
   "outputs": [
    {
     "name": "stdout",
     "output_type": "stream",
     "text": [
      "3\n"
     ]
    }
   ],
   "source": [
    "#print(news_data[0]['items'][0]['link'])\n",
    "print(len(news_data))"
   ]
  },
  {
   "cell_type": "markdown",
   "metadata": {
    "id": "OHUW70zQW-Pa"
   },
   "source": [
    "### Check if the imported URL is Naver News"
   ]
  },
  {
   "cell_type": "code",
   "execution_count": 25,
   "metadata": {
    "colab": {
     "base_uri": "https://localhost:8080/"
    },
    "id": "QOEgzH59W-Pa",
    "outputId": "5b3b3b38-656d-43f7-eff4-ed343a017d71"
   },
   "outputs": [
    {
     "name": "stdout",
     "output_type": "stream",
     "text": [
      "https://n.news.naver.com/mnews/article/014/0004991948?sid=105\n",
      "https://n.news.naver.com/mnews/article/014/0004991952?sid=105\n",
      "https://n.news.naver.com/mnews/article/092/0002287718?sid=105\n",
      "https://n.news.naver.com/mnews/article/031/0000738750?sid=105\n",
      "https://n.news.naver.com/mnews/article/030/0003088712?sid=102\n",
      "https://n.news.naver.com/mnews/article/014/0004991628?sid=105\n",
      "https://n.news.naver.com/mnews/article/119/0002699307?sid=101\n",
      "https://n.news.naver.com/mnews/article/009/0005111363?sid=105\n",
      "https://n.news.naver.com/mnews/article/016/0002125686?sid=105\n",
      "https://n.news.naver.com/mnews/article/648/0000015229?sid=105\n",
      "https://n.news.naver.com/mnews/article/001/0013858043?sid=102\n"
     ]
    }
   ],
   "source": [
    "naver_news_link = []\n",
    "\n",
    "for page in news_data:\n",
    "    #print(page)\n",
    "    page_news_link = []\n",
    "    \n",
    "    for item in page['items']:\n",
    "        #print(item)\n",
    "        temp_link = item['link']\n",
    "        #print(temp_link)\n",
    "        if \"naver\" in temp_link:\n",
    "            page_news_link.append(temp_link)\n",
    "    \n",
    "    naver_news_link.append(page_news_link)\n",
    "        \n",
    "#print(len(naver_news_link))\n",
    "\n",
    "for page in naver_news_link:\n",
    "    for link in page:\n",
    "        print(link)"
   ]
  },
  {
   "cell_type": "markdown",
   "metadata": {
    "id": "c62MthZuW-Pa"
   },
   "source": [
    "### Crawling NAVER News article"
   ]
  },
  {
   "cell_type": "code",
   "execution_count": 34,
   "metadata": {
    "id": "14unXMmSW-Pa"
   },
   "outputs": [],
   "source": [
    "import pandas as pd\n",
    "import numpy as np\n",
    "from selenium import webdriver\n",
    "from tqdm.notebook import tqdm\n",
    "import requests\n",
    "import pickle\n",
    "import re\n",
    "import ast\n",
    "\n",
    "from bs4 import BeautifulSoup \n",
    "from urllib.request import urlopen\n",
    "import urllib\n",
    "import time"
   ]
  },
  {
   "cell_type": "code",
   "execution_count": 43,
   "metadata": {
    "colab": {
     "base_uri": "https://localhost:8080/",
     "height": 498
    },
    "id": "-qmHVhoFW-Pa",
    "outputId": "84cfb582-6b14-45c7-fd8c-d694c0b30afe"
   },
   "outputs": [
    {
     "name": "stderr",
     "output_type": "stream",
     "text": [
      "/var/folders/pw/83spn3jj6pg9mztv3ymxgkz80000gn/T/ipykernel_26764/504468291.py:2: DeprecationWarning: executable_path has been deprecated, please pass in a Service object\n",
      "  driver = webdriver.Chrome('driver/chromedriver')\n"
     ]
    }
   ],
   "source": [
    "from selenium import webdriver\n",
    "driver = webdriver.Chrome('driver/chromedriver')"
   ]
  },
  {
   "cell_type": "code",
   "execution_count": 59,
   "metadata": {},
   "outputs": [
    {
     "data": {
      "application/vnd.jupyter.widget-view+json": {
       "model_id": "f1bb22ac3db94efd9ceaea72b59e261e",
       "version_major": 2,
       "version_minor": 0
      },
      "text/plain": [
       "  0%|          | 0/3 [00:00<?, ?it/s]"
      ]
     },
     "metadata": {},
     "output_type": "display_data"
    },
    {
     "name": "stdout",
     "output_type": "stream",
     "text": [
      "0\n"
     ]
    },
    {
     "data": {
      "application/vnd.jupyter.widget-view+json": {
       "model_id": "535e65cad5714fb2a18dbe32a18d9047",
       "version_major": 2,
       "version_minor": 0
      },
      "text/plain": [
       "  0%|          | 0/3 [00:00<?, ?it/s]"
      ]
     },
     "metadata": {},
     "output_type": "display_data"
    },
    {
     "name": "stdout",
     "output_type": "stream",
     "text": [
      "https://n.news.naver.com/mnews/article/014/0004991948?sid=105\n",
      "https://n.news.naver.com/mnews/article/014/0004991952?sid=105\n",
      "https://n.news.naver.com/mnews/article/092/0002287718?sid=105\n",
      "1\n"
     ]
    },
    {
     "data": {
      "application/vnd.jupyter.widget-view+json": {
       "model_id": "d7055fc335614a63a6d1c028e5103352",
       "version_major": 2,
       "version_minor": 0
      },
      "text/plain": [
       "  0%|          | 0/2 [00:00<?, ?it/s]"
      ]
     },
     "metadata": {},
     "output_type": "display_data"
    },
    {
     "name": "stdout",
     "output_type": "stream",
     "text": [
      "https://n.news.naver.com/mnews/article/031/0000738750?sid=105\n",
      "https://n.news.naver.com/mnews/article/030/0003088712?sid=102\n",
      "2\n"
     ]
    },
    {
     "data": {
      "application/vnd.jupyter.widget-view+json": {
       "model_id": "1f14ce5f98ca4021b7bfdfaf89a178d1",
       "version_major": 2,
       "version_minor": 0
      },
      "text/plain": [
       "  0%|          | 0/6 [00:00<?, ?it/s]"
      ]
     },
     "metadata": {},
     "output_type": "display_data"
    },
    {
     "name": "stdout",
     "output_type": "stream",
     "text": [
      "https://n.news.naver.com/mnews/article/014/0004991628?sid=105\n",
      "https://n.news.naver.com/mnews/article/119/0002699307?sid=101\n",
      "https://n.news.naver.com/mnews/article/009/0005111363?sid=105\n",
      "https://n.news.naver.com/mnews/article/016/0002125686?sid=105\n",
      "https://n.news.naver.com/mnews/article/648/0000015229?sid=105\n",
      "https://n.news.naver.com/mnews/article/001/0013858043?sid=102\n",
      "['크래프톤 \"기본기 강해야 AI 성과\"… 슈퍼개발자 키운다', 'ESG 코딩교육으로 지역간 교육격차 해소한다', 'CJ올리브네트웍스, SW창의캠프로 지역 교육격차 해소']\n",
      "==================================\n",
      "['  자연어로 코딩하는 시대 대비 AI 대체 불가능한 개발자 육성 SW 인재양성 프로그램 \\'정글\\' 2기 교육생 5개월 합숙훈련 돌입            \"5개월 간 합숙 및 팀 기반 협업과 자기주도적 학습을 통해 기본기가 탄탄한 개발자를 양성하고자 한다.\"     소프트웨어(SW) 인재 양성 프로그램인 \\'크래프톤 정글(정글)\\'을 기획, 운영하는 크래프톤 장병규 이사회 의장(사진)과 김정한 정글 원장은 지난 3일 서울대 시흥캠퍼스에서 2기 입소식을 마친 후 파이낸셜뉴스와 인터뷰에서 \"코딩 능력을 갖춘 챗GPT와 \\'노코드\\' 등 인공지능(AI) 기반 개발도구를 활용해 성과를 내기 위해서는 전산학 등 기본기를 갖추고 있어야 한다\"며 이같이 밝혔다.     \\'프로그래밍 종말론\\'까지 제기될 정도로 파이썬 같은 프로그래밍 언어가 아닌 자연어 입력을 통해 코딩할 수 있는 시대가 다가오고 있는 가운데 AI에게 대체되지 않고 AI로 성과를 내기위해서는 반드시 기본기를 갖춰야 한다는 게 공통된 진단이다. 오히려 AI를 잘 활용해 성과를 내는 슈퍼개발자와 AI로 대체가능한 개발자 간 양극화 현상에 주목해야 한다는 지적이다. 그렇다면 SW엔지니어의 기본기란 무엇일까.     장 의장은 \"컴퓨터에게 일을 시키는 SW엔지니어들은 컴퓨터를 잘 이해할 수 있을 때 훨씬 더 성과를 낼 수 있다\"며 \"SW엔지니어 기본기 핵심은 오퍼레이팅 시스템(OS)이다\"라고 강조했다. 이에 따라 정글 역시 \\'카이스트 핀토스(KAIST PintOS)\\' 같은 고난이도 OS 프로젝트를 익힐 수 있도록 정글 커리큘럼을 마련했다.     정글은 SW 개발자로 커리어 전환을 희망하는 지원자를 선발해 육성하는 크래프톤의 사회적 책임(CSR) 프로그램이다. 산업계 개발자 구인난 해소와 청년고용 창출에 기여하기 위해 만들어진 정글은 단계적으로 연 1000명 규모까지 확대하는 게 목표다. 지난 3월 첫 배출된 1기 교육생은 49명이었으며, 2기 합격생은 총 71명이다. 연령대별로는 20대 중반이 가장 많다.     총 3개월간의 모집 과정을 거쳐 선발된 2기 교육생은 오는 8월까지 총 5개월간 합숙 교육에 돌입한다. 교육 과정은 △자료구조 △알고리즘 △웹 서버 △운영체제(OS) 교육을 거쳐, 팀 프로젝트인 \\'나만의 무기를 갖기\\' 발표로 마무리한다. 국내 유수 IT 기업들이 협력사로 참여해 멘토링을 지원하는 한편, 수료 교육생들 채용도 검토할 예정이다.     정글은 자기 주도적 학습이 이뤄져야 하는 커리큘럼을 갖췄다. 즉 코치가 있지만 강의가 아닌 가이드만 제공되는 형태다. 또 팀 기반으로 프로젝트를 수행하며 협업 역량을 강화하는 게 핵심 목표다. 김정한 원장은 \"정글은 오로지 \\'성장\\'에 집중할 수 있는 최적의 환경\"이라며 \"교육생들이 동료와의 협력, 끝까지 포기하지 않는 도전 정신, 몰입의 즐거움을 통해 자신의 한계를 깨어 성취감과 자신감을 얻길 바란다\"고 말했다.    ', '  CJ 올리브네트웍스\\'창의캠프\\' 올해부터  ESG  주제로 교육 진행           CJ 올리브네트웍스의  \\'CJ   SW 창의캠프\\'에 참가한 학생들이  CJ 올리브네트웍스 직원들과 함께  AI 와 레고( LEGO ) 파이썬 코딩을 활용해 로봇을 만들고 있다.  CJ 올리브네트웍스 제공  중학생들이 직접 사회문제를 해결할 수 있는 로봇을 인공지능( AI )과 레고( LEGO ) 파이썬 코딩을 활용해 만들어보는 교육 프로그램이 마련됐다. 이를 통해 학생들은 환경·사회·지배구조( ESG )에 대해 이해하고  IT  기술을 통해 사회문제를 해결하는 경험을 쌓는다.     4일  CJ 올리브네트웍스에 따르면 임직원들의 재능기부 프로그램인  \\'CJ   SW 창의캠프\\'가 올해부터  ESG 를 주제로 하는 코딩 교육을 커리큘럼에 도입해 지역 간 교육격차 해소에 나선다. 올해는 충청지역까지 활동을 확대해 충북 제천중 학생을 대상으로 수업을 진행한다. 또 제주 신창중, 제주 아라중, 목포 영화중 등 제주, 전남, 충북지역 5개 중학교 100여 명을 대상으로 자유학년제 및 방과후 수업과 연계해 오는 7월까지 총 15주간 체계적으로 수업을 진행한다.     ESG  코딩 교육 과정은 환경문제를 해결하는 △플로깅 청소로봇 △산림복원 파종로봇 △모기 퇴치 사운드 스프레이 △원격 펌프 △스마트 물 운송로봇 등을 레고 모형으로 제작한다. 코딩으로 로봇을 작동시켜보는 수업과, 일상 속  AI  활용 사례에서  AI  기술의 사회적 책임에 대해 함께 생각하고 토론하는  \\'AI  윤리원칙\\' 수업도 함께 한다.     이 외에도 레고, 센서, 모터 같은 다양한 디지털 교구를 활용한 창의융합인재교육( STEAM )과 기초 파이썬 교육,  AI  머신러닝 등 기존  CJ   SW 창의캠프 과정도 함께 제공해 프로그램을 지원한다는 계획이다. 백재민  CJ 올리브네트웍스 경영지원담당은 \" ESG 를 주제로 하는 교육과정을 도입해 참여 학생들이  IT 기술로 환경·사회 문제를 해결하는데 더욱 관심을 갖는 계기가 될 수 있도록 앞으로도 프로그램을 다양화 및 고도화해 나갈 것\"이라고 말했다.      ', \" \\t\\t\\tCJ올리브네트웍스(대표 차인혁)는 사회공헌활동 ‘CJ SW창의캠프’를 통해 지역 간 교육격차 해소에 나선다고 4일 밝혔다. CJ SW창의캠프는 CJ올리브네트웍스 임직원의 업무 전문성을 바탕으로 중·고등학교 학생들에게 SW 코딩 교육을 지원하는 재능기부형 프로그램으로 강원, 충청, 전라, 제주 등 지역을 확대해 나가고 있다. 올해 새롭게 선보이는 ‘ESG 커리큘럼'은 인공지능(AI)과 레고(LEGO) 파이썬 코딩을 통해 학생들이 직접 사회문제를 해결할 수 있는 로봇 모형을 제작해 실습하는 수업이다. 교육에 참여하는 학생들이 ESG에 대해 이해하고 IT 기술을 통해 사회문제를 해결하는 경험을 할 수 있게 돕는다.         CJ올리브네트웍스 SW 창의캠프 온라인 수업 모습 (이미지=CJ올리브네트웍스) ▲모기 퇴치 사운드 스프레이 ▲원격 펌프 ▲스마트 물 운송로봇 등을 레고 모형으로 제작하여 코딩을 통해 작동시켜보는 수업과, 일상 속 AI 활용 사례에서 AI 기술의 사회적 책임에 대해 함께 생각하고 토론하는 ‘AI 윤리원칙’ 수업으로 구성된다. 이 외에도 레고, 센서, 모터 같은 다양한 디지털 교구를 활용한 창의융합인재교육(STEAM)과 기초 파이썬 교육, AI 머신러닝 등 기존 CJ SW창의캠프 과정도 함께 제공해 프로그램을 지원한다는 계획이다. CJ올리브네트웍스는 올해 충청 지역까지 활동을 확대해 충북 제천중학교 학생을 대상으로 수업을 진행한다. 또한 제주 신창중학교, 제주 아라중학교, 목포 영화중학교 등 제주, 전남, 충북지역 5개 중학교 100여 명을 대상으로 자유학년제 및 방과후 수업과 연계해 오는 7월까지 총 15주 동안 체계적으로 수업을 실시한다. 백재민 CJ올리브네트웍스 경영지원담당은 ”CJ SW창의캠프는 지난 코로나 상황에서도 온-오프라인 방식의 하이브리드형 교육 진행, 오픈 이노베이션 프로그램 시행, 과학기술박람회 참여 등 지역 교육 격차 해소를 위해 지속적으로 노력해 왔다”며 ”이번 ESG를 주제로 하는 커리큘럼 도입을 통해 참여 학생들이 IT기술로 환경·사회 문제를 해결하는데 더욱 관심을 갖는 계기가 될 수 있도록 앞으로도 CJ SW창의캠프 프로그램을 다양화 및 고도화해 나갈 것”이라고 말했다.  \"]\n"
     ]
    }
   ],
   "source": [
    "naver_news_title = []\n",
    "naver_news_content = []\n",
    "\n",
    "for n in tqdm(range(len(naver_news_link))):\n",
    "    print(n)\n",
    "    news_page_title = []\n",
    "    news_page_content = []\n",
    "    \n",
    "    for idx in tqdm(range(len(naver_news_link[n]))):\n",
    "        try:\n",
    "            driver.get(naver_news_link[n][idx])\n",
    "            print(naver_news_link[n][idx])\n",
    "        except:\n",
    "            print(\"Timeout!\")\n",
    "            continue\n",
    "        \n",
    "        try:\n",
    "            response = driver.page_source\n",
    "        except UnexpectedAlertPresentException:\n",
    "            driver.switch_to_alert().accept()\n",
    "            print(\"The post has been deleted.\")\n",
    "            continue\n",
    "        \n",
    "        soup = BeautifulSoup(response, \"html.parser\")\n",
    "        \n",
    "        ###### Scraping news titles ######\n",
    "        \n",
    "        title = None\n",
    "        \n",
    "        try:\n",
    "            item = soup.find('div', class_=\"media_end_head_title\")\n",
    "            title = item.find('h2', class_=\"media_end_head_headline\").get_text()\n",
    "            #print(title)\n",
    "\n",
    "        except:\n",
    "            title = \"OUTLINK\"\n",
    "        \n",
    "        #print(title)\n",
    "        news_page_title.append(title)\n",
    "        \n",
    "        \n",
    "        \n",
    "        ###### Scraping the news body ######\n",
    "        \n",
    "        doc = None\n",
    "        text = \"\"\n",
    "                \n",
    "        data = soup.find_all(\"div\", {\"id\": \"dic_area\"})\n",
    "        if data:\n",
    "            for item in data:\n",
    "\n",
    "                text = text + str(item.find_all(text=True)).strip()\n",
    "                text = ast.literal_eval(text)\n",
    "                doc = ' '.join(text)\n",
    "   \n",
    "        else:\n",
    "            doc = \"OUTLINK\"\n",
    "            \n",
    "        news_page_content.append(doc.replace('\\n', ' '))\n",
    "                \n",
    "    naver_news_title.append(news_page_title)\n",
    "    naver_news_content.append(news_page_content)\n",
    "\n",
    "    time.sleep(2)\n",
    "    \n",
    "    \n",
    "print(naver_news_title[0])\n",
    "print(\"==================================\")\n",
    "print(naver_news_content[0])"
   ]
  },
  {
   "cell_type": "markdown",
   "metadata": {
    "id": "JKvECJbQW-Pb"
   },
   "source": [
    "### View crawl results"
   ]
  },
  {
   "cell_type": "code",
   "execution_count": 61,
   "metadata": {
    "id": "rBSO9jGxW-Pb"
   },
   "outputs": [
    {
     "name": "stdout",
     "output_type": "stream",
     "text": [
      "['크래프톤 \"기본기 강해야 AI 성과\"… 슈퍼개발자 키운다', 'ESG 코딩교육으로 지역간 교육격차 해소한다', 'CJ올리브네트웍스, SW창의캠프로 지역 교육격차 해소']\n"
     ]
    }
   ],
   "source": [
    "print(naver_news_title[0])"
   ]
  },
  {
   "cell_type": "code",
   "execution_count": 60,
   "metadata": {
    "id": "z52umIJ0W-Pb"
   },
   "outputs": [
    {
     "name": "stdout",
     "output_type": "stream",
     "text": [
      "['  자연어로 코딩하는 시대 대비 AI 대체 불가능한 개발자 육성 SW 인재양성 프로그램 \\'정글\\' 2기 교육생 5개월 합숙훈련 돌입            \"5개월 간 합숙 및 팀 기반 협업과 자기주도적 학습을 통해 기본기가 탄탄한 개발자를 양성하고자 한다.\"     소프트웨어(SW) 인재 양성 프로그램인 \\'크래프톤 정글(정글)\\'을 기획, 운영하는 크래프톤 장병규 이사회 의장(사진)과 김정한 정글 원장은 지난 3일 서울대 시흥캠퍼스에서 2기 입소식을 마친 후 파이낸셜뉴스와 인터뷰에서 \"코딩 능력을 갖춘 챗GPT와 \\'노코드\\' 등 인공지능(AI) 기반 개발도구를 활용해 성과를 내기 위해서는 전산학 등 기본기를 갖추고 있어야 한다\"며 이같이 밝혔다.     \\'프로그래밍 종말론\\'까지 제기될 정도로 파이썬 같은 프로그래밍 언어가 아닌 자연어 입력을 통해 코딩할 수 있는 시대가 다가오고 있는 가운데 AI에게 대체되지 않고 AI로 성과를 내기위해서는 반드시 기본기를 갖춰야 한다는 게 공통된 진단이다. 오히려 AI를 잘 활용해 성과를 내는 슈퍼개발자와 AI로 대체가능한 개발자 간 양극화 현상에 주목해야 한다는 지적이다. 그렇다면 SW엔지니어의 기본기란 무엇일까.     장 의장은 \"컴퓨터에게 일을 시키는 SW엔지니어들은 컴퓨터를 잘 이해할 수 있을 때 훨씬 더 성과를 낼 수 있다\"며 \"SW엔지니어 기본기 핵심은 오퍼레이팅 시스템(OS)이다\"라고 강조했다. 이에 따라 정글 역시 \\'카이스트 핀토스(KAIST PintOS)\\' 같은 고난이도 OS 프로젝트를 익힐 수 있도록 정글 커리큘럼을 마련했다.     정글은 SW 개발자로 커리어 전환을 희망하는 지원자를 선발해 육성하는 크래프톤의 사회적 책임(CSR) 프로그램이다. 산업계 개발자 구인난 해소와 청년고용 창출에 기여하기 위해 만들어진 정글은 단계적으로 연 1000명 규모까지 확대하는 게 목표다. 지난 3월 첫 배출된 1기 교육생은 49명이었으며, 2기 합격생은 총 71명이다. 연령대별로는 20대 중반이 가장 많다.     총 3개월간의 모집 과정을 거쳐 선발된 2기 교육생은 오는 8월까지 총 5개월간 합숙 교육에 돌입한다. 교육 과정은 △자료구조 △알고리즘 △웹 서버 △운영체제(OS) 교육을 거쳐, 팀 프로젝트인 \\'나만의 무기를 갖기\\' 발표로 마무리한다. 국내 유수 IT 기업들이 협력사로 참여해 멘토링을 지원하는 한편, 수료 교육생들 채용도 검토할 예정이다.     정글은 자기 주도적 학습이 이뤄져야 하는 커리큘럼을 갖췄다. 즉 코치가 있지만 강의가 아닌 가이드만 제공되는 형태다. 또 팀 기반으로 프로젝트를 수행하며 협업 역량을 강화하는 게 핵심 목표다. 김정한 원장은 \"정글은 오로지 \\'성장\\'에 집중할 수 있는 최적의 환경\"이라며 \"교육생들이 동료와의 협력, 끝까지 포기하지 않는 도전 정신, 몰입의 즐거움을 통해 자신의 한계를 깨어 성취감과 자신감을 얻길 바란다\"고 말했다.    ', '  CJ 올리브네트웍스\\'창의캠프\\' 올해부터  ESG  주제로 교육 진행           CJ 올리브네트웍스의  \\'CJ   SW 창의캠프\\'에 참가한 학생들이  CJ 올리브네트웍스 직원들과 함께  AI 와 레고( LEGO ) 파이썬 코딩을 활용해 로봇을 만들고 있다.  CJ 올리브네트웍스 제공  중학생들이 직접 사회문제를 해결할 수 있는 로봇을 인공지능( AI )과 레고( LEGO ) 파이썬 코딩을 활용해 만들어보는 교육 프로그램이 마련됐다. 이를 통해 학생들은 환경·사회·지배구조( ESG )에 대해 이해하고  IT  기술을 통해 사회문제를 해결하는 경험을 쌓는다.     4일  CJ 올리브네트웍스에 따르면 임직원들의 재능기부 프로그램인  \\'CJ   SW 창의캠프\\'가 올해부터  ESG 를 주제로 하는 코딩 교육을 커리큘럼에 도입해 지역 간 교육격차 해소에 나선다. 올해는 충청지역까지 활동을 확대해 충북 제천중 학생을 대상으로 수업을 진행한다. 또 제주 신창중, 제주 아라중, 목포 영화중 등 제주, 전남, 충북지역 5개 중학교 100여 명을 대상으로 자유학년제 및 방과후 수업과 연계해 오는 7월까지 총 15주간 체계적으로 수업을 진행한다.     ESG  코딩 교육 과정은 환경문제를 해결하는 △플로깅 청소로봇 △산림복원 파종로봇 △모기 퇴치 사운드 스프레이 △원격 펌프 △스마트 물 운송로봇 등을 레고 모형으로 제작한다. 코딩으로 로봇을 작동시켜보는 수업과, 일상 속  AI  활용 사례에서  AI  기술의 사회적 책임에 대해 함께 생각하고 토론하는  \\'AI  윤리원칙\\' 수업도 함께 한다.     이 외에도 레고, 센서, 모터 같은 다양한 디지털 교구를 활용한 창의융합인재교육( STEAM )과 기초 파이썬 교육,  AI  머신러닝 등 기존  CJ   SW 창의캠프 과정도 함께 제공해 프로그램을 지원한다는 계획이다. 백재민  CJ 올리브네트웍스 경영지원담당은 \" ESG 를 주제로 하는 교육과정을 도입해 참여 학생들이  IT 기술로 환경·사회 문제를 해결하는데 더욱 관심을 갖는 계기가 될 수 있도록 앞으로도 프로그램을 다양화 및 고도화해 나갈 것\"이라고 말했다.      ', \" \\t\\t\\tCJ올리브네트웍스(대표 차인혁)는 사회공헌활동 ‘CJ SW창의캠프’를 통해 지역 간 교육격차 해소에 나선다고 4일 밝혔다. CJ SW창의캠프는 CJ올리브네트웍스 임직원의 업무 전문성을 바탕으로 중·고등학교 학생들에게 SW 코딩 교육을 지원하는 재능기부형 프로그램으로 강원, 충청, 전라, 제주 등 지역을 확대해 나가고 있다. 올해 새롭게 선보이는 ‘ESG 커리큘럼'은 인공지능(AI)과 레고(LEGO) 파이썬 코딩을 통해 학생들이 직접 사회문제를 해결할 수 있는 로봇 모형을 제작해 실습하는 수업이다. 교육에 참여하는 학생들이 ESG에 대해 이해하고 IT 기술을 통해 사회문제를 해결하는 경험을 할 수 있게 돕는다.         CJ올리브네트웍스 SW 창의캠프 온라인 수업 모습 (이미지=CJ올리브네트웍스) ▲모기 퇴치 사운드 스프레이 ▲원격 펌프 ▲스마트 물 운송로봇 등을 레고 모형으로 제작하여 코딩을 통해 작동시켜보는 수업과, 일상 속 AI 활용 사례에서 AI 기술의 사회적 책임에 대해 함께 생각하고 토론하는 ‘AI 윤리원칙’ 수업으로 구성된다. 이 외에도 레고, 센서, 모터 같은 다양한 디지털 교구를 활용한 창의융합인재교육(STEAM)과 기초 파이썬 교육, AI 머신러닝 등 기존 CJ SW창의캠프 과정도 함께 제공해 프로그램을 지원한다는 계획이다. CJ올리브네트웍스는 올해 충청 지역까지 활동을 확대해 충북 제천중학교 학생을 대상으로 수업을 진행한다. 또한 제주 신창중학교, 제주 아라중학교, 목포 영화중학교 등 제주, 전남, 충북지역 5개 중학교 100여 명을 대상으로 자유학년제 및 방과후 수업과 연계해 오는 7월까지 총 15주 동안 체계적으로 수업을 실시한다. 백재민 CJ올리브네트웍스 경영지원담당은 ”CJ SW창의캠프는 지난 코로나 상황에서도 온-오프라인 방식의 하이브리드형 교육 진행, 오픈 이노베이션 프로그램 시행, 과학기술박람회 참여 등 지역 교육 격차 해소를 위해 지속적으로 노력해 왔다”며 ”이번 ESG를 주제로 하는 커리큘럼 도입을 통해 참여 학생들이 IT기술로 환경·사회 문제를 해결하는데 더욱 관심을 갖는 계기가 될 수 있도록 앞으로도 CJ SW창의캠프 프로그램을 다양화 및 고도화해 나갈 것”이라고 말했다.  \"]\n"
     ]
    }
   ],
   "source": [
    "print(naver_news_content[0])"
   ]
  },
  {
   "cell_type": "code",
   "execution_count": 62,
   "metadata": {
    "id": "iZOyVwF2W-Pb"
   },
   "outputs": [
    {
     "name": "stdout",
     "output_type": "stream",
     "text": [
      "3\n",
      "3\n"
     ]
    }
   ],
   "source": [
    "print(len(naver_news_title[0]))\n",
    "print(len(naver_news_content[0]))"
   ]
  },
  {
   "cell_type": "markdown",
   "metadata": {
    "id": "YpxCuyQeW-Pb"
   },
   "source": [
    "### Save crawl results"
   ]
  },
  {
   "cell_type": "code",
   "execution_count": 63,
   "metadata": {
    "id": "1UEl1G8gW-Pc"
   },
   "outputs": [],
   "source": [
    "with open(\"naver_news_title.pk\", \"wb\") as f:\n",
    "    pickle.dump(naver_news_title, f)\n",
    "    \n",
    "with open(\"naver_news_content.pk\", \"wb\") as f:\n",
    "    pickle.dump(naver_news_content, f)"
   ]
  }
 ],
 "metadata": {
  "colab": {
   "provenance": []
  },
  "kernelspec": {
   "display_name": "Python 3 (ipykernel)",
   "language": "python",
   "name": "python3"
  },
  "language_info": {
   "codemirror_mode": {
    "name": "ipython",
    "version": 3
   },
   "file_extension": ".py",
   "mimetype": "text/x-python",
   "name": "python",
   "nbconvert_exporter": "python",
   "pygments_lexer": "ipython3",
   "version": "3.9.13"
  }
 },
 "nbformat": 4,
 "nbformat_minor": 1
}
